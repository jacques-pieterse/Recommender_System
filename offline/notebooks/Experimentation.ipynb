{
 "cells": [
  {
   "cell_type": "markdown",
   "id": "3f1439ab",
   "metadata": {},
   "source": [
    "# Recommender System Testing"
   ]
  },
  {
   "cell_type": "markdown",
   "id": "657ad064",
   "metadata": {},
   "source": [
    "The focus of this notebook is to test various code snippest, processing, subcomponents and integration of subcomponents for the recommender system"
   ]
  },
  {
   "cell_type": "markdown",
   "id": "dbd7eecc",
   "metadata": {},
   "source": [
    "## Data Processing"
   ]
  },
  {
   "cell_type": "markdown",
   "id": "89435121",
   "metadata": {},
   "source": [
    "External databases are initially used to test and train the recommender system so no actual pre-processing is required for that but when an online version is created and data is logged this will need to be processed and stored. For now the csv ratings file will be loaded and mappings will be created from user and movie ids to indexes. A sparse matrix will then be created to make indexing much easier, for this project double indexing will be done as it is more efficient than having a full sparse matrix."
   ]
  },
  {
   "cell_type": "code",
   "execution_count": 12,
   "id": "2000b5b5",
   "metadata": {},
   "outputs": [],
   "source": [
    "import csv\n",
    "import time\n",
    "import os\n",
    "import random"
   ]
  },
  {
   "cell_type": "code",
   "execution_count": null,
   "id": "70ca88db",
   "metadata": {},
   "outputs": [
    {
     "name": "stdout",
     "output_type": "stream",
     "text": [
      "An error occurred: 'list' object has no attribute 'train'\n",
      "Finished\n",
      "Time taken: 0.0068585872650146484 seconds\n"
     ]
    }
   ],
   "source": [
    "# Choose small or large dataset: False=small, True=large\n",
    "large_dataset = True\n",
    "# large_dataset = False\n",
    "\n",
    "if(large_dataset):\n",
    "    folder_name = \"../data/external/ml-32m\"\n",
    "else:\n",
    "    folder_name = \"../data/external/ml-latest-small\"\n",
    "file_name = \"ratings.csv\" \n",
    "file_path = os.path.join(folder_name, file_name) # Combines folder and file name correctly\n",
    "\n",
    "# User and movie mappings\n",
    "user_to_idx = {}\n",
    "idx_to_user = {}\n",
    "movie_to_idx = {}\n",
    "idx_to_movie = {}\n",
    "\n",
    "# Sparse Lists for user and movie ratings\n",
    "user_ratings_train = []\n",
    "user_ratings_test = []\n",
    "movie_ratings_train = []\n",
    "movie_ratings_test = []\n",
    "\n",
    "start_time = time.time()\n",
    "\n",
    "try:\n",
    "    with open(file_path, 'r', newline='', encoding='utf-8') as csvfile:\n",
    "        csv_reader = csv.reader(csvfile)\n",
    "        header = next(csv_reader)\n",
    "        for row in csv_reader:\n",
    "            user_id = row[0]\n",
    "            movie_id = row[1]\n",
    "            rating = float(row[2])\n",
    "\n",
    "            if user_id not in user_to_idx:\n",
    "                user_idx = len(user_to_idx)\n",
    "                user_to_idx[user_id] = user_idx\n",
    "                idx_to_user[user_idx] = user_id\n",
    "                user_ratings_test.append([])\n",
    "                user_ratings_train.append([])\n",
    "\n",
    "            if movie_id not in movie_to_idx:\n",
    "                movie_idx = len(movie_to_idx)\n",
    "                movie_to_idx[movie_id] = movie_idx\n",
    "                idx_to_movie[movie_idx] = movie_id\n",
    "                movie_ratings_train.append([]) \n",
    "                movie_ratings_test.append([])\n",
    "\n",
    "            rand = random.random()\n",
    "            if rand < 0.8:\n",
    "                user_ratings_train[user_to_idx[user_id]].append((movie_to_idx[movie_id], rating))\n",
    "                movie_ratings_train[movie_to_idx[movie_id]].append((user_to_idx[user_id], rating))\n",
    "            else:\n",
    "                user_ratings_test[user_to_idx[user_id]].append((movie_to_idx[movie_id], rating))\n",
    "                movie_ratings_test[movie_to_idx[movie_id]].append((user_to_idx[user_id], rating))\n",
    "\n",
    "except FileNotFoundError:\n",
    "    print(f\"File {file_path} not found.\")\n",
    "except Exception as e:\n",
    "    print(f\"An error occurred: {e}\")\n",
    "\n",
    "end_time = time.time()\n",
    "print(\"Finished\")\n",
    "print(\"Time taken:\", end_time - start_time, \"seconds\")\n"
   ]
  }
 ],
 "metadata": {
  "kernelspec": {
   "display_name": "Python 3",
   "language": "python",
   "name": "python3"
  },
  "language_info": {
   "codemirror_mode": {
    "name": "ipython",
    "version": 3
   },
   "file_extension": ".py",
   "mimetype": "text/x-python",
   "name": "python",
   "nbconvert_exporter": "python",
   "pygments_lexer": "ipython3",
   "version": "3.12.8"
  }
 },
 "nbformat": 4,
 "nbformat_minor": 5
}
