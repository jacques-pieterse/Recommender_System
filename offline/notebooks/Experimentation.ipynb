{
 "cells": [
  {
   "cell_type": "markdown",
   "id": "3f1439ab",
   "metadata": {},
   "source": [
    "# Recommender System Testing"
   ]
  },
  {
   "cell_type": "markdown",
   "id": "657ad064",
   "metadata": {},
   "source": [
    "The focus of this notebook is to test various code snippest, processing, subcomponents and integration of subcomponents for the recommender system"
   ]
  },
  {
   "cell_type": "markdown",
   "id": "dbd7eecc",
   "metadata": {},
   "source": [
    "## Data Processing"
   ]
  },
  {
   "cell_type": "markdown",
   "id": "89435121",
   "metadata": {},
   "source": [
    "External databases are initially used to test and train the recommender system so no actual pre-processing is required for that but when an online version is created and data is logged this will need to be processed and stored. For now the csv ratings file will be loaded and mappings will be created from user and movie ids to indexes. A sparse matrix will then be created to make indexing much easier, for this project double indexing will be done as it is more efficient than having a full sparse matrix."
   ]
  },
  {
   "cell_type": "code",
   "execution_count": 13,
   "id": "2000b5b5",
   "metadata": {},
   "outputs": [],
   "source": [
    "import csv\n",
    "import time\n",
    "import os\n",
    "import random\n",
    "import matplotlib.pyplot as plt\n",
    "from collections import Counter\n",
    "import numpy as np\n",
    "import optuna\n",
    "\n",
    "external_data_path = \"../data/external/\"\n",
    "image_path = \"images/\""
   ]
  },
  {
   "cell_type": "code",
   "execution_count": 2,
   "id": "70ca88db",
   "metadata": {},
   "outputs": [
    {
     "name": "stdout",
     "output_type": "stream",
     "text": [
      "Finished\n",
      "Time taken: 0.20359134674072266 seconds\n",
      "Train Count: 80756\n",
      "Test Count: 20080\n"
     ]
    }
   ],
   "source": [
    "# Choose small or large dataset: False=small, True=large\n",
    "# large_dataset = True\n",
    "large_dataset = False\n",
    "train_ratio = 0.8\n",
    "\n",
    "if(large_dataset):\n",
    "    folder_name = external_data_path + \"ml-32m\"\n",
    "else:\n",
    "    folder_name = external_data_path + \"ml-latest-small\"\n",
    "file_name = \"ratings.csv\" \n",
    "file_path = os.path.join(folder_name, file_name)\n",
    "\n",
    "# User and movie mappings\n",
    "user_to_idx = {}\n",
    "idx_to_user = {}\n",
    "movie_to_idx = {}\n",
    "idx_to_movie = {}\n",
    "\n",
    "# Sparse Lists for user and movie ratings\n",
    "user_ratings_train = []\n",
    "user_ratings_test = []\n",
    "movie_ratings_train = []\n",
    "movie_ratings_test = []\n",
    "\n",
    "\n",
    "test_count = 0\n",
    "train_count = 0\n",
    "start_time = time.time()\n",
    "try:\n",
    "    with open(file_path, 'r', newline='', encoding='utf-8') as csvfile:\n",
    "        csv_reader = csv.reader(csvfile)\n",
    "        header = next(csv_reader)\n",
    "        for row in csv_reader:\n",
    "            user_id = row[0]\n",
    "            movie_id = row[1]\n",
    "            rating = float(row[2])\n",
    "\n",
    "            if user_id not in user_to_idx:\n",
    "                user_idx = len(user_to_idx)\n",
    "                user_to_idx[user_id] = user_idx\n",
    "                idx_to_user[user_idx] = user_id\n",
    "                user_ratings_test.append([])\n",
    "                user_ratings_train.append([])\n",
    "\n",
    "            if movie_id not in movie_to_idx:\n",
    "                movie_idx = len(movie_to_idx)\n",
    "                movie_to_idx[movie_id] = movie_idx\n",
    "                idx_to_movie[movie_idx] = movie_id\n",
    "                movie_ratings_train.append([]) \n",
    "                movie_ratings_test.append([])\n",
    "\n",
    "            rand = random.random()\n",
    "            if rand < train_ratio:\n",
    "                user_ratings_train[user_to_idx[user_id]].append((movie_to_idx[movie_id], rating))\n",
    "                movie_ratings_train[movie_to_idx[movie_id]].append((user_to_idx[user_id], rating))\n",
    "                train_count += 1\n",
    "            else:\n",
    "                user_ratings_test[user_to_idx[user_id]].append((movie_to_idx[movie_id], rating))\n",
    "                movie_ratings_test[movie_to_idx[movie_id]].append((user_to_idx[user_id], rating))\n",
    "                test_count += 1\n",
    "\n",
    "except FileNotFoundError:\n",
    "    print(f\"File {file_path} not found.\")\n",
    "except Exception as e:\n",
    "    print(f\"An error occurred: {e}\")\n",
    "\n",
    "end_time = time.time()\n",
    "print(\"Finished\")\n",
    "print(\"Time taken:\", end_time - start_time, \"seconds\")\n",
    "\n",
    "print(\"Train Count:\", train_count)\n",
    "print(\"Test Count:\", test_count)"
   ]
  },
  {
   "cell_type": "code",
   "execution_count": 3,
   "id": "76e8b409",
   "metadata": {},
   "outputs": [
    {
     "data": {
      "image/png": "[encoded data removed]",
      "text/plain": [
       "<Figure size 800x500 with 1 Axes>"
      ]
     },
     "metadata": {},
     "output_type": "display_data"
    }
   ],
   "source": [
    "user_total_ratings = []\n",
    "\n",
    "for row in user_ratings_train:\n",
    "    user_sum = sum([rating for _, rating in row])\n",
    "    user_total_ratings.append(user_sum)\n",
    "\n",
    "all_user_ratings = [rating for rating in user_total_ratings]\n",
    "user_rating_counts = Counter(all_user_ratings)\n",
    "user_ratings = np.array(sorted(user_rating_counts.keys()))\n",
    "user_frequencies = np.array([user_rating_counts[r] for r in user_ratings])\n",
    "\n",
    "user_bin_edges = np.arange(0, max(user_total_ratings) + 10, 10)\n",
    "user_frequencies, user_bins = np.histogram(user_total_ratings, bins=user_bin_edges)\n",
    "user_bin_centers = 0.5 * (user_bins[1:] + user_bins[:-1])\n",
    "\n",
    "plt.figure(figsize=(8,5))\n",
    "plt.scatter(user_bin_centers, user_frequencies)\n",
    "plt.xscale('log')\n",
    "plt.yscale('log')\n",
    "plt.xlabel('Rating')\n",
    "plt.ylabel('Frequency')\n",
    "plt.title('User Rating Distribution')\n",
    "plt.savefig(image_path + 'user_rating_distribution.svg')\n",
    "plt.show()"
   ]
  },
  {
   "cell_type": "code",
   "execution_count": 4,
   "id": "75fcf0ce",
   "metadata": {},
   "outputs": [
    {
     "data": {
      "image/png": "[encoded data removed]",
      "text/plain": [
       "<Figure size 800x500 with 1 Axes>"
      ]
     },
     "metadata": {},
     "output_type": "display_data"
    }
   ],
   "source": [
    "movie_total_ratings = []\n",
    "\n",
    "for row in movie_ratings_train:\n",
    "    movie_sum = sum([rating for _, rating in row])\n",
    "    movie_total_ratings.append(movie_sum)\n",
    "\n",
    "all_movie_ratings = [rating for rating in movie_total_ratings]\n",
    "movie_rating_counts = Counter(all_movie_ratings)\n",
    "movie_ratings = np.array(sorted(movie_rating_counts.keys()))\n",
    "movie_frequencies = np.array([movie_rating_counts[r] for r in movie_ratings])\n",
    "\n",
    "movie_bin_edges = np.arange(0, max(movie_total_ratings) + 10, 10)\n",
    "movie_frequencies, movie_bins = np.histogram(movie_total_ratings, bins=movie_bin_edges)\n",
    "movie_bin_centers = 0.5 * (movie_bins[1:] + movie_bins[:-1])\n",
    "\n",
    "plt.figure(figsize=(8,5))\n",
    "plt.scatter(movie_bin_centers, movie_frequencies)\n",
    "plt.xscale('log')\n",
    "plt.yscale('log')\n",
    "plt.xlabel('Rating')\n",
    "plt.ylabel('Frequency')\n",
    "plt.title('Movie Rating Distribution')\n",
    "plt.savefig(image_path + 'movie_rating_distribution.svg')\n",
    "plt.show()"
   ]
  },
  {
   "cell_type": "code",
   "execution_count": 5,
   "id": "e4651b37",
   "metadata": {},
   "outputs": [
    {
     "name": "stdout",
     "output_type": "stream",
     "text": [
      "Epoch 1/100, Loss: 6239.7721, Train RMSE: 0.8055, Test RMSE: 0.8795\n",
      "Epoch 2/100, Loss: 6047.0266, Train RMSE: 0.7917, Test RMSE: 0.8677\n",
      "Epoch 3/100, Loss: 6019.3909, Train RMSE: 0.7906, Test RMSE: 0.8671\n",
      "Epoch 4/100, Loss: 6002.8607, Train RMSE: 0.7904, Test RMSE: 0.8670\n",
      "Epoch 5/100, Loss: 5989.4026, Train RMSE: 0.7903, Test RMSE: 0.8669\n",
      "Epoch 6/100, Loss: 5978.1276, Train RMSE: 0.7903, Test RMSE: 0.8669\n",
      "Epoch 7/100, Loss: 5968.6530, Train RMSE: 0.7903, Test RMSE: 0.8670\n",
      "Epoch 8/100, Loss: 5960.6878, Train RMSE: 0.7903, Test RMSE: 0.8671\n",
      "Epoch 9/100, Loss: 5953.9911, Train RMSE: 0.7903, Test RMSE: 0.8672\n",
      "Epoch 10/100, Loss: 5948.3607, Train RMSE: 0.7904, Test RMSE: 0.8673\n",
      "Epoch 11/100, Loss: 5943.6269, Train RMSE: 0.7904, Test RMSE: 0.8674\n",
      "Epoch 12/100, Loss: 5939.6468, Train RMSE: 0.7905, Test RMSE: 0.8675\n",
      "Epoch 13/100, Loss: 5936.3005, Train RMSE: 0.7905, Test RMSE: 0.8677\n",
      "Epoch 14/100, Loss: 5933.4870, Train RMSE: 0.7906, Test RMSE: 0.8678\n",
      "Epoch 15/100, Loss: 5931.1215, Train RMSE: 0.7906, Test RMSE: 0.8679\n",
      "Epoch 16/100, Loss: 5929.1326, Train RMSE: 0.7906, Test RMSE: 0.8681\n",
      "Epoch 17/100, Loss: 5927.4605, Train RMSE: 0.7907, Test RMSE: 0.8682\n",
      "Epoch 18/100, Loss: 5926.0546, Train RMSE: 0.7907, Test RMSE: 0.8683\n",
      "Epoch 19/100, Loss: 5924.8725, Train RMSE: 0.7908, Test RMSE: 0.8684\n",
      "Epoch 20/100, Loss: 5923.8787, Train RMSE: 0.7908, Test RMSE: 0.8685\n",
      "Epoch 21/100, Loss: 5923.0432, Train RMSE: 0.7909, Test RMSE: 0.8686\n",
      "Epoch 22/100, Loss: 5922.3406, Train RMSE: 0.7909, Test RMSE: 0.8687\n",
      "Epoch 23/100, Loss: 5921.7500, Train RMSE: 0.7909, Test RMSE: 0.8688\n",
      "Epoch 24/100, Loss: 5921.2534, Train RMSE: 0.7910, Test RMSE: 0.8689\n",
      "Epoch 25/100, Loss: 5920.8358, Train RMSE: 0.7910, Test RMSE: 0.8690\n",
      "Epoch 26/100, Loss: 5920.4848, Train RMSE: 0.7910, Test RMSE: 0.8691\n",
      "Epoch 27/100, Loss: 5920.1896, Train RMSE: 0.7910, Test RMSE: 0.8691\n",
      "Epoch 28/100, Loss: 5919.9415, Train RMSE: 0.7911, Test RMSE: 0.8692\n",
      "Epoch 29/100, Loss: 5919.7328, Train RMSE: 0.7911, Test RMSE: 0.8693\n",
      "Epoch 30/100, Loss: 5919.5574, Train RMSE: 0.7911, Test RMSE: 0.8693\n",
      "Epoch 31/100, Loss: 5919.4099, Train RMSE: 0.7911, Test RMSE: 0.8694\n",
      "Epoch 32/100, Loss: 5919.2859, Train RMSE: 0.7911, Test RMSE: 0.8694\n",
      "Epoch 33/100, Loss: 5919.1817, Train RMSE: 0.7912, Test RMSE: 0.8695\n",
      "Epoch 34/100, Loss: 5919.0940, Train RMSE: 0.7912, Test RMSE: 0.8695\n",
      "Epoch 35/100, Loss: 5919.0203, Train RMSE: 0.7912, Test RMSE: 0.8695\n",
      "Epoch 36/100, Loss: 5918.9583, Train RMSE: 0.7912, Test RMSE: 0.8696\n",
      "Epoch 37/100, Loss: 5918.9062, Train RMSE: 0.7912, Test RMSE: 0.8696\n",
      "Epoch 38/100, Loss: 5918.8624, Train RMSE: 0.7912, Test RMSE: 0.8696\n",
      "Epoch 39/100, Loss: 5918.8256, Train RMSE: 0.7912, Test RMSE: 0.8697\n",
      "Epoch 40/100, Loss: 5918.7946, Train RMSE: 0.7913, Test RMSE: 0.8697\n",
      "Epoch 41/100, Loss: 5918.7686, Train RMSE: 0.7913, Test RMSE: 0.8697\n",
      "Epoch 42/100, Loss: 5918.7467, Train RMSE: 0.7913, Test RMSE: 0.8697\n",
      "Epoch 43/100, Loss: 5918.7283, Train RMSE: 0.7913, Test RMSE: 0.8698\n",
      "Epoch 44/100, Loss: 5918.7128, Train RMSE: 0.7913, Test RMSE: 0.8698\n",
      "Epoch 45/100, Loss: 5918.6998, Train RMSE: 0.7913, Test RMSE: 0.8698\n",
      "Epoch 46/100, Loss: 5918.6889, Train RMSE: 0.7913, Test RMSE: 0.8698\n",
      "Epoch 47/100, Loss: 5918.6797, Train RMSE: 0.7913, Test RMSE: 0.8698\n",
      "Epoch 48/100, Loss: 5918.6720, Train RMSE: 0.7913, Test RMSE: 0.8698\n",
      "Epoch 49/100, Loss: 5918.6655, Train RMSE: 0.7913, Test RMSE: 0.8699\n",
      "Epoch 50/100, Loss: 5918.6600, Train RMSE: 0.7913, Test RMSE: 0.8699\n",
      "Epoch 51/100, Loss: 5918.6554, Train RMSE: 0.7913, Test RMSE: 0.8699\n",
      "Epoch 52/100, Loss: 5918.6515, Train RMSE: 0.7913, Test RMSE: 0.8699\n",
      "Epoch 53/100, Loss: 5918.6483, Train RMSE: 0.7913, Test RMSE: 0.8699\n",
      "Epoch 54/100, Loss: 5918.6456, Train RMSE: 0.7913, Test RMSE: 0.8699\n",
      "Epoch 55/100, Loss: 5918.6433, Train RMSE: 0.7913, Test RMSE: 0.8699\n",
      "Epoch 56/100, Loss: 5918.6413, Train RMSE: 0.7913, Test RMSE: 0.8699\n",
      "Epoch 57/100, Loss: 5918.6397, Train RMSE: 0.7913, Test RMSE: 0.8699\n",
      "Epoch 58/100, Loss: 5918.6384, Train RMSE: 0.7913, Test RMSE: 0.8699\n",
      "Epoch 59/100, Loss: 5918.6372, Train RMSE: 0.7913, Test RMSE: 0.8699\n",
      "Epoch 60/100, Loss: 5918.6362, Train RMSE: 0.7913, Test RMSE: 0.8699\n",
      "Epoch 61/100, Loss: 5918.6354, Train RMSE: 0.7913, Test RMSE: 0.8699\n",
      "Epoch 62/100, Loss: 5918.6347, Train RMSE: 0.7913, Test RMSE: 0.8700\n",
      "Epoch 63/100, Loss: 5918.6342, Train RMSE: 0.7913, Test RMSE: 0.8700\n",
      "Epoch 64/100, Loss: 5918.6337, Train RMSE: 0.7914, Test RMSE: 0.8700\n",
      "Epoch 65/100, Loss: 5918.6333, Train RMSE: 0.7914, Test RMSE: 0.8700\n",
      "Epoch 66/100, Loss: 5918.6329, Train RMSE: 0.7914, Test RMSE: 0.8700\n",
      "Epoch 67/100, Loss: 5918.6327, Train RMSE: 0.7914, Test RMSE: 0.8700\n",
      "Epoch 68/100, Loss: 5918.6324, Train RMSE: 0.7914, Test RMSE: 0.8700\n",
      "Epoch 69/100, Loss: 5918.6322, Train RMSE: 0.7914, Test RMSE: 0.8700\n",
      "Epoch 70/100, Loss: 5918.6320, Train RMSE: 0.7914, Test RMSE: 0.8700\n",
      "Epoch 71/100, Loss: 5918.6319, Train RMSE: 0.7914, Test RMSE: 0.8700\n",
      "Epoch 72/100, Loss: 5918.6318, Train RMSE: 0.7914, Test RMSE: 0.8700\n",
      "Epoch 73/100, Loss: 5918.6317, Train RMSE: 0.7914, Test RMSE: 0.8700\n",
      "Epoch 74/100, Loss: 5918.6316, Train RMSE: 0.7914, Test RMSE: 0.8700\n",
      "Epoch 75/100, Loss: 5918.6315, Train RMSE: 0.7914, Test RMSE: 0.8700\n",
      "Epoch 76/100, Loss: 5918.6315, Train RMSE: 0.7914, Test RMSE: 0.8700\n",
      "Epoch 77/100, Loss: 5918.6314, Train RMSE: 0.7914, Test RMSE: 0.8700\n",
      "Epoch 78/100, Loss: 5918.6314, Train RMSE: 0.7914, Test RMSE: 0.8700\n",
      "Epoch 79/100, Loss: 5918.6313, Train RMSE: 0.7914, Test RMSE: 0.8700\n",
      "Epoch 80/100, Loss: 5918.6313, Train RMSE: 0.7914, Test RMSE: 0.8700\n",
      "Epoch 81/100, Loss: 5918.6313, Train RMSE: 0.7914, Test RMSE: 0.8700\n",
      "Epoch 82/100, Loss: 5918.6313, Train RMSE: 0.7914, Test RMSE: 0.8700\n",
      "Epoch 83/100, Loss: 5918.6312, Train RMSE: 0.7914, Test RMSE: 0.8700\n",
      "Epoch 84/100, Loss: 5918.6312, Train RMSE: 0.7914, Test RMSE: 0.8700\n",
      "Epoch 85/100, Loss: 5918.6312, Train RMSE: 0.7914, Test RMSE: 0.8700\n",
      "Epoch 86/100, Loss: 5918.6312, Train RMSE: 0.7914, Test RMSE: 0.8700\n",
      "Epoch 87/100, Loss: 5918.6312, Train RMSE: 0.7914, Test RMSE: 0.8700\n",
      "Epoch 88/100, Loss: 5918.6312, Train RMSE: 0.7914, Test RMSE: 0.8700\n",
      "Epoch 89/100, Loss: 5918.6312, Train RMSE: 0.7914, Test RMSE: 0.8700\n",
      "Epoch 90/100, Loss: 5918.6312, Train RMSE: 0.7914, Test RMSE: 0.8700\n",
      "Epoch 91/100, Loss: 5918.6312, Train RMSE: 0.7914, Test RMSE: 0.8700\n",
      "Epoch 92/100, Loss: 5918.6312, Train RMSE: 0.7914, Test RMSE: 0.8700\n",
      "Epoch 93/100, Loss: 5918.6312, Train RMSE: 0.7914, Test RMSE: 0.8700\n",
      "Epoch 94/100, Loss: 5918.6312, Train RMSE: 0.7914, Test RMSE: 0.8700\n",
      "Epoch 95/100, Loss: 5918.6312, Train RMSE: 0.7914, Test RMSE: 0.8700\n",
      "Epoch 96/100, Loss: 5918.6312, Train RMSE: 0.7914, Test RMSE: 0.8700\n",
      "Epoch 97/100, Loss: 5918.6312, Train RMSE: 0.7914, Test RMSE: 0.8700\n",
      "Epoch 98/100, Loss: 5918.6312, Train RMSE: 0.7914, Test RMSE: 0.8700\n",
      "Epoch 99/100, Loss: 5918.6312, Train RMSE: 0.7914, Test RMSE: 0.8700\n",
      "Epoch 100/100, Loss: 5918.6312, Train RMSE: 0.7914, Test RMSE: 0.8700\n"
     ]
    }
   ],
   "source": [
    "# Hyperparameters\n",
    "lam = 0.1\n",
    "gamma = 0.1\n",
    "num_epochs = 100\n",
    "\n",
    "# Configure Biases\n",
    "user_biases = np.zeros(len(user_ratings_train))\n",
    "item_biases = np.zeros(len(movie_ratings_train))\n",
    "training_loss = []\n",
    "training_RMSE = []\n",
    "testing_RMSE = []\n",
    "\n",
    "# Estimate biases with loss function\n",
    "for epoch in range(num_epochs):\n",
    "    for u in range(len(user_ratings_train)):\n",
    "        bias = 0\n",
    "        counter = 0\n",
    "        for movie_idx, rating in user_ratings_train[u]:\n",
    "            bias += (rating - item_biases[movie_idx])\n",
    "            counter += 1\n",
    "        bias = lam * bias / ((lam * counter) + gamma)\n",
    "        user_biases[u] = bias\n",
    "\n",
    "    for m in range(len(movie_ratings_train)):\n",
    "        bias = 0\n",
    "        counter = 0\n",
    "        for user_idx, rating in movie_ratings_train[m]:\n",
    "            bias += (rating - user_biases[user_idx])\n",
    "            counter += 1\n",
    "        bias = lam * bias / ((lam * counter) + gamma)\n",
    "        item_biases[m] = bias\n",
    "\n",
    "    train_loss = 0\n",
    "    count = 0\n",
    "    train_error = 0\n",
    "    for u, user_ratings in enumerate(user_ratings_train):\n",
    "        for movie_idx, rating in user_ratings:\n",
    "            pred = user_biases[u] + item_biases[movie_idx]\n",
    "            train_error += (rating - pred) * (rating - pred)\n",
    "            count += 1 \n",
    "    train_rmse = np.sqrt(train_error / (count + 1e-10))\n",
    "    train_loss = (lam * (train_error)) + (gamma * (np.sum(user_biases**2) + np.sum(item_biases**2)))\n",
    "    training_loss.append(train_loss)\n",
    "    training_RMSE.append(train_rmse)\n",
    "\n",
    "    test_loss = 0\n",
    "    test_error = 0\n",
    "    count = 0\n",
    "    for u, user_ratings in enumerate(user_ratings_test):\n",
    "        for movie_idx, rating in user_ratings:\n",
    "            pred = user_biases[u] + item_biases[movie_idx]\n",
    "            test_error += (rating - pred) * (rating - pred)\n",
    "            count += 1\n",
    "    test_rmse = np.sqrt(test_error / (count + 1e-10))\n",
    "    testing_RMSE.append(test_rmse)\n",
    "\n",
    "    print(f\"Epoch {epoch+1}/{num_epochs}, Loss: {train_loss:.4f}, Train RMSE: {train_rmse:.4f}, Test RMSE: {test_rmse:.4f}\")"
   ]
  },
  {
   "cell_type": "code",
   "execution_count": 6,
   "id": "976bc245",
   "metadata": {},
   "outputs": [
    {
     "data": {
      "image/png": "[encoded data removed]",
      "text/plain": [
       "<Figure size 1000x500 with 1 Axes>"
      ]
     },
     "metadata": {},
     "output_type": "display_data"
    }
   ],
   "source": [
    "plt.figure(figsize=(10, 5))\n",
    "plt.plot(range(1, num_epochs + 1), training_loss, marker='o')\n",
    "plt.xlabel('Epoch')\n",
    "plt.ylabel('Loss')\n",
    "plt.title('Training Loss Over Epochs')\n",
    "plt.savefig(image_path + 'bias_trianing_loss.svg')\n",
    "plt.show()"
   ]
  },
  {
   "cell_type": "code",
   "execution_count": 7,
   "id": "35cb6440",
   "metadata": {},
   "outputs": [
    {
     "data": {
      "image/png": "[encoded data removed]",
      "text/plain": [
       "<Figure size 1000x500 with 1 Axes>"
      ]
     },
     "metadata": {},
     "output_type": "display_data"
    }
   ],
   "source": [
    "plt.figure(figsize=(10, 5))\n",
    "plt.plot(range(1, num_epochs + 1), training_RMSE, marker='o', label='Training RMSE')\n",
    "plt.plot(range(1, num_epochs + 1), testing_RMSE, marker='x', label='Testing RMSE')\n",
    "plt.legend()\n",
    "plt.xlabel('Epoch')\n",
    "plt.ylabel('RMSE')\n",
    "plt.title('RMSE Over Epochs')\n",
    "plt.savefig(image_path + 'bias_rmse.svg')\n",
    "plt.show()"
   ]
  },
  {
   "cell_type": "code",
   "execution_count": null,
   "id": "1c9bcc96",
   "metadata": {},
   "outputs": [],
   "source": [
    "def training_old(num_epochs=100, lam=0.1, gamma=0.1, tau=0.1, embeddings_dim=20, scale=1):\n",
    "    user_embeddings = np.random.normal(0, scale, (len(user_ratings_train), embeddings_dim))\n",
    "    item_embeddings = np.random.normal(0, scale, (len(movie_ratings_train), embeddings_dim))\n",
    "    user_biases = np.zeros(len(user_ratings_train))\n",
    "    item_biases = np.zeros(len(movie_ratings_train))\n",
    "    training_loss = []\n",
    "    training_RMSE = []\n",
    "    testing_RMSE = []\n",
    "\n",
    "    for epoch in range(num_epochs):\n",
    "        for u in range(len(user_ratings_train)):\n",
    "            bias = 0\n",
    "            counter = 0\n",
    "            user = 0\n",
    "            for movie_idx, rating in user_ratings_train[u]:\n",
    "                bias += lam * (rating - ((user_embeddings[u].T @ item_embeddings[movie_idx]) + item_biases[movie_idx]))\n",
    "                counter += 1\n",
    "            bias = bias / ((lam * counter) + gamma)\n",
    "            user_biases[u] = bias\n",
    "            \n",
    "            user_term = 0\n",
    "            user_inverse_term = 0\n",
    "            for movie_idx, rating in user_ratings_train[u]:\n",
    "                user_inverse_term += lam * ((item_embeddings[movie_idx].T @ item_embeddings[movie_idx]) + (tau * np.eye(embeddings_dim)))\n",
    "                user_term += lam * item_embeddings[movie_idx] * (rating - user_biases[u] - item_biases[movie_idx])\n",
    "            user = np.linalg.solve(user_inverse_term, user_term)\n",
    "            user_embeddings[u] = user\n",
    "\n",
    "        for m in range(len(movie_ratings_train)):\n",
    "            bias = 0\n",
    "            counter = 0\n",
    "            for user_idx, rating in movie_ratings_train[m]:\n",
    "                bias += lam * (rating - ((user_embeddings[user_idx].T @ item_embeddings[m]) + user_biases[user_idx]))\n",
    "                counter += 1\n",
    "            bias = bias / ((lam * counter) + gamma)\n",
    "            item_biases[m] = bias\n",
    "\n",
    "            item_term = 0\n",
    "            item_inverse_term = 0\n",
    "            for user_idx, rating in movie_ratings_train[m]:\n",
    "                item_inverse_term += lam * ((user_embeddings[user_idx].T @ user_embeddings[user_idx]) + (tau * np.eye(embeddings_dim)))\n",
    "                item_term += lam * user_embeddings[user_idx] * (rating - user_biases[user_idx] - item_biases[m])\n",
    "            item = np.linalg.solve(item_inverse_term, item_term)\n",
    "            item_embeddings[m] = item\n",
    "\n",
    "        train_loss = 0\n",
    "        count = 0\n",
    "        train_error = 0\n",
    "        for u, user_ratings in enumerate(user_ratings_train):\n",
    "            for movie_idx, rating in user_ratings:\n",
    "                pred = (user_embeddings[u].T @ item_embeddings[movie_idx]) + user_biases[u] + item_biases[movie_idx]\n",
    "                train_error += (rating - pred) * (rating - pred)\n",
    "                count += 1 \n",
    "        train_rmse = np.sqrt(train_error / (count + 1e-10))\n",
    "        train_loss = (lam * (train_error)) \\\n",
    "            + (gamma * (np.sum(user_biases**2) + np.sum(item_biases**2))) \\\n",
    "            + (tau * (np.sum(user_embeddings.T @ user_embeddings) + np.sum(item_embeddings.T @ item_embeddings)))\n",
    "        training_loss.append(train_loss)\n",
    "        training_RMSE.append(train_rmse)\n",
    "\n",
    "        test_error = 0\n",
    "        count = 0\n",
    "        for u, user_ratings in enumerate(user_ratings_test):\n",
    "            for movie_idx, rating in user_ratings:\n",
    "                pred = (user_embeddings[u].T @ item_embeddings[movie_idx]) + user_biases[u] + item_biases[movie_idx]\n",
    "                test_error += (rating - pred) * (rating - pred)\n",
    "                count += 1\n",
    "        test_rmse = np.sqrt(test_error / (count + 1e-10))\n",
    "        testing_RMSE.append(test_rmse)\n",
    "\n",
    "        print(f\"Epoch {epoch+1}/{num_epochs}, Loss: {train_loss:.4f}, Train RMSE: {train_rmse:.4f}, Test RMSE: {test_rmse:.4f}\")\n",
    "\n",
    "    return training_loss, training_RMSE, testing_RMSE, user_embeddings, item_embeddings"
   ]
  },
  {
   "cell_type": "code",
   "execution_count": 9,
   "id": "8ebb23c2",
   "metadata": {},
   "outputs": [],
   "source": [
    "def training_optimised(num_epochs=100, lam=0.1, gamma=0.1, tau=0.1, embeddings_dim=20, scale=1):\n",
    "    user_embeddings = np.random.normal(0, scale, (len(user_ratings_train), embeddings_dim))\n",
    "    item_embeddings = np.random.normal(0, scale, (len(movie_ratings_train), embeddings_dim))\n",
    "    user_biases = np.zeros(len(user_ratings_train))\n",
    "    item_biases = np.zeros(len(movie_ratings_train))\n",
    "    training_loss = []\n",
    "    training_RMSE = []\n",
    "    testing_RMSE = []\n",
    "\n",
    "    tau_identity = tau * np.eye(embeddings_dim)\n",
    "\n",
    "    for epoch in range(num_epochs):\n",
    "        for u in range(len(user_ratings_train)):\n",
    "            counter = 0\n",
    "            ratings = np.zeros(len(user_ratings_train[u]))\n",
    "            pred = np.zeros(len(user_ratings_train[u]))\n",
    "            for movie_idx, rating in user_ratings_train[u]:\n",
    "                ratings[counter] = rating\n",
    "                pred[counter] = ((user_embeddings[u].T @ item_embeddings[movie_idx]) + item_biases[movie_idx])\n",
    "                counter += 1\n",
    "            bias = lam * np.sum(ratings - pred)\n",
    "            user_biases[u] = bias / ((lam * counter) + gamma)\n",
    "            \n",
    "            user_inverse_term = np.zeros((embeddings_dim, embeddings_dim))\n",
    "            user_term = np.zeros(embeddings_dim)\n",
    "            for movie_idx, rating in user_ratings_train[u]:\n",
    "                item_vec = item_embeddings[movie_idx]\n",
    "                user_inverse_term += np.outer(item_vec, item_vec)\n",
    "                user_term += item_vec * (rating - user_biases[u] - item_biases[movie_idx])\n",
    "            user_inverse_term = (lam * user_inverse_term) + tau_identity\n",
    "            user_embeddings[u] = np.linalg.solve(user_inverse_term, lam * user_term)\n",
    "\n",
    "        for m in range(len(movie_ratings_train)):\n",
    "            counter = 0\n",
    "            ratings = np.zeros(len(movie_ratings_train[m]))\n",
    "            pred = np.zeros(len(movie_ratings_train[m]))\n",
    "            for user_idx, rating in movie_ratings_train[m]:\n",
    "                ratings[counter] = rating\n",
    "                pred[counter] = ((user_embeddings[user_idx].T @ item_embeddings[m]) + user_biases[user_idx])\n",
    "                counter += 1\n",
    "            bias = lam * np.sum(ratings - pred)\n",
    "            item_biases[m] = bias / ((lam * counter) + gamma)\n",
    "\n",
    "            item_inverse_term = np.zeros((embeddings_dim, embeddings_dim))\n",
    "            item_term = np.zeros(embeddings_dim)\n",
    "            for user_idx, rating in movie_ratings_train[m]:\n",
    "                user_vec = user_embeddings[user_idx]\n",
    "                item_inverse_term += np.outer(user_vec, user_vec)\n",
    "                item_term += user_vec * (rating - user_biases[user_idx] - item_biases[m])\n",
    "            item_inverse_term = (lam * item_inverse_term) +  tau_identity\n",
    "            item = np.linalg.solve(item_inverse_term, lam * item_term)\n",
    "            item_embeddings[m] = item\n",
    "\n",
    "        count = 0\n",
    "        train_error = 0\n",
    "        for u, user_ratings in enumerate(user_ratings_train):\n",
    "            for movie_idx, rating in user_ratings:\n",
    "                pred = (user_embeddings[u] @ item_embeddings[movie_idx]) + user_biases[u] + item_biases[movie_idx]\n",
    "                train_error += (rating - pred) * (rating - pred)\n",
    "                count += 1 \n",
    "        train_rmse = np.sqrt(train_error / (count + 1e-10))\n",
    "        train_loss = (lam * (train_error)) \\\n",
    "            + (gamma * (np.sum(user_biases**2) + np.sum(item_biases**2))) \\\n",
    "            + (tau * (np.sum(user_embeddings**2) + np.sum(item_embeddings**2)))\n",
    "        training_loss.append(train_loss)\n",
    "        training_RMSE.append(train_rmse)\n",
    "\n",
    "        test_error = 0\n",
    "        count = 0\n",
    "        for u, user_ratings in enumerate(user_ratings_test):\n",
    "            for movie_idx, rating in user_ratings:\n",
    "                pred = (user_embeddings[u] @ item_embeddings[movie_idx]) + user_biases[u] + item_biases[movie_idx]\n",
    "                test_error += (rating - pred) * (rating - pred)\n",
    "                count += 1\n",
    "        test_rmse = np.sqrt(test_error / (count + 1e-10))\n",
    "        testing_RMSE.append(test_rmse)\n",
    "\n",
    "        print(f\"Epoch {epoch+1}/{num_epochs}, Loss: {train_loss:.4f}, Train RMSE: {train_rmse:.4f}, Test RMSE: {test_rmse:.4f}\")\n",
    "\n",
    "    return training_loss, training_RMSE, testing_RMSE, user_embeddings, item_embeddings"
   ]
  },
  {
   "cell_type": "code",
   "execution_count": 10,
   "id": "f3ca686a",
   "metadata": {},
   "outputs": [
    {
     "name": "stdout",
     "output_type": "stream",
     "text": [
      "Epoch 1/20, Loss: 62379.6127, Train RMSE: 0.7893, Test RMSE: 0.8788\n",
      "Epoch 2/20, Loss: 57066.8166, Train RMSE: 0.7191, Test RMSE: 0.8631\n",
      "Epoch 3/20, Loss: 54408.1260, Train RMSE: 0.6677, Test RMSE: 0.8639\n",
      "Epoch 4/20, Loss: 53585.5085, Train RMSE: 0.6516, Test RMSE: 0.8645\n",
      "Epoch 5/20, Loss: 53171.3566, Train RMSE: 0.6449, Test RMSE: 0.8643\n",
      "Epoch 6/20, Loss: 52906.3163, Train RMSE: 0.6413, Test RMSE: 0.8638\n",
      "Epoch 7/20, Loss: 52714.7621, Train RMSE: 0.6392, Test RMSE: 0.8633\n",
      "Epoch 8/20, Loss: 52567.4058, Train RMSE: 0.6377, Test RMSE: 0.8628\n",
      "Epoch 9/20, Loss: 52450.2735, Train RMSE: 0.6366, Test RMSE: 0.8624\n",
      "Epoch 10/20, Loss: 52355.3143, Train RMSE: 0.6358, Test RMSE: 0.8620\n",
      "Epoch 11/20, Loss: 52277.2350, Train RMSE: 0.6352, Test RMSE: 0.8617\n",
      "Epoch 12/20, Loss: 52212.3189, Train RMSE: 0.6347, Test RMSE: 0.8615\n",
      "Epoch 13/20, Loss: 52157.8716, Train RMSE: 0.6343, Test RMSE: 0.8613\n",
      "Epoch 14/20, Loss: 52111.8972, Train RMSE: 0.6340, Test RMSE: 0.8612\n",
      "Epoch 15/20, Loss: 52072.8871, Train RMSE: 0.6338, Test RMSE: 0.8612\n",
      "Epoch 16/20, Loss: 52039.6783, Train RMSE: 0.6336, Test RMSE: 0.8612\n",
      "Epoch 17/20, Loss: 52011.3541, Train RMSE: 0.6335, Test RMSE: 0.8613\n",
      "Epoch 18/20, Loss: 51987.1742, Train RMSE: 0.6333, Test RMSE: 0.8613\n",
      "Epoch 19/20, Loss: 51966.5253, Train RMSE: 0.6332, Test RMSE: 0.8614\n",
      "Epoch 20/20, Loss: 51948.8877, Train RMSE: 0.6332, Test RMSE: 0.8615\n"
     ]
    }
   ],
   "source": [
    "# Hyperparameters\n",
    "lam = 1\n",
    "gamma = 1\n",
    "tau = 10\n",
    "num_epochs = 20\n",
    "embeddings_dim = 10\n",
    "const = 1\n",
    "\n",
    "scale = const/np.sqrt(embeddings_dim)\n",
    "training_loss, training_RMSE, testing_RMSE, user_embeddings, item_embeddings = training_optimised(\n",
    "    num_epochs=num_epochs,\n",
    "    lam=lam,\n",
    "    gamma=gamma,\n",
    "    tau=tau,\n",
    "    embeddings_dim=embeddings_dim,\n",
    "    scale=scale)"
   ]
  },
  {
   "cell_type": "code",
   "execution_count": 11,
   "id": "c157ade7",
   "metadata": {},
   "outputs": [
    {
     "data": {
      "image/png": "[encoded data removed]",
      "text/plain": [
       "<Figure size 1000x500 with 1 Axes>"
      ]
     },
     "metadata": {},
     "output_type": "display_data"
    }
   ],
   "source": [
    "plt.figure(figsize=(10, 5))\n",
    "plt.plot(range(1, num_epochs + 1), training_loss, marker='o')\n",
    "plt.xlabel('Epoch')\n",
    "plt.ylabel('Loss')\n",
    "plt.title('Training Loss Over Epochs')\n",
    "plt.savefig(image_path + 'embeddings_trianing_loss.svg')\n",
    "plt.show()"
   ]
  },
  {
   "cell_type": "code",
   "execution_count": null,
   "id": "bf1b8dd3",
   "metadata": {},
   "outputs": [
    {
     "data": {
      "image/png": "[encoded data removed]",
      "text/plain": [
       "<Figure size 1000x500 with 1 Axes>"
      ]
     },
     "metadata": {},
     "output_type": "display_data"
    }
   ],
   "source": [
    "plt.figure(figsize=(10, 5))\n",
    "plt.plot(range(1, num_epochs + 1), training_RMSE, marker='o', label='Training RMSE')\n",
    "plt.plot(range(1, num_epochs + 1), testing_RMSE, marker='x', label='Testing RMSE')\n",
    "plt.legend()\n",
    "plt.xlabel('Epoch')\n",
    "plt.ylabel('RMSE')\n",
    "plt.title('RMSE Over Epochs')\n",
    "plt.savefig(image_path + 'embeddings_rmse.svg')\n",
    "plt.show()"
   ]
  },
  {
   "cell_type": "code",
   "execution_count": 14,
   "id": "44d5e62b",
   "metadata": {},
   "outputs": [],
   "source": [
    "def objective(trial):\n",
    "    lam = trial.suggest_float('lam', 1e-5, 1.0, log=True)\n",
    "    gamma = trial.suggest_float('gamma', 1e-5, 1.0, log=True)\n",
    "    tau = trial.suggest_float('tau', 1e-5, 1.0, log=True)\n",
    "    embeddings_dim = trial.suggest_int('embeddings_dim', 10, 100)\n",
    "    scale = trial.suggest_float('scale', 0.01, 1.0)\n",
    "\n",
    "    num_epochs = 20  # Keep it small for tuning, increase later\n",
    "    \n",
    "    training_loss, training_RMSE, testing_RMSE, _, _ = training_optimised(\n",
    "        num_epochs=num_epochs,\n",
    "        lam=lam,\n",
    "        gamma=gamma,\n",
    "        tau=tau,\n",
    "        embeddings_dim=embeddings_dim,\n",
    "        scale=scale\n",
    "    )\n",
    "\n",
    "    # Optimize based on final test RMSE (last epoch)\n",
    "    return testing_RMSE[-1]  # Lower RMSE is better"
   ]
  },
  {
   "cell_type": "code",
   "execution_count": null,
   "id": "caaa7b2b",
   "metadata": {},
   "outputs": [
    {
     "name": "stderr",
     "output_type": "stream",
     "text": [
      "[I 2025-07-17 10:47:36,243] A new study created in memory with name: no-name-8dc186bb-e57b-40ca-8703-efee0d580c10\n"
     ]
    },
    {
     "name": "stdout",
     "output_type": "stream",
     "text": [
      "Epoch 1/20, Loss: 8.7208, Train RMSE: 0.9455, Test RMSE: 1.0212\n",
      "Epoch 2/20, Loss: 5.8482, Train RMSE: 0.7894, Test RMSE: 0.8696\n",
      "Epoch 3/20, Loss: 5.8098, Train RMSE: 0.7871, Test RMSE: 0.8684\n",
      "Epoch 4/20, Loss: 5.7979, Train RMSE: 0.7868, Test RMSE: 0.8683\n",
      "Epoch 5/20, Loss: 5.7886, Train RMSE: 0.7867, Test RMSE: 0.8682\n",
      "Epoch 6/20, Loss: 5.7805, Train RMSE: 0.7866, Test RMSE: 0.8682\n",
      "Epoch 7/20, Loss: 5.7734, Train RMSE: 0.7866, Test RMSE: 0.8682\n",
      "Epoch 8/20, Loss: 5.7672, Train RMSE: 0.7866, Test RMSE: 0.8682\n",
      "Epoch 9/20, Loss: 5.7618, Train RMSE: 0.7866, Test RMSE: 0.8682\n",
      "Epoch 10/20, Loss: 5.7571, Train RMSE: 0.7866, Test RMSE: 0.8683\n",
      "Epoch 11/20, Loss: 5.7529, Train RMSE: 0.7866, Test RMSE: 0.8683\n",
      "Epoch 12/20, Loss: 5.7493, Train RMSE: 0.7866, Test RMSE: 0.8684\n",
      "Epoch 13/20, Loss: 5.7461, Train RMSE: 0.7867, Test RMSE: 0.8685\n",
      "Epoch 14/20, Loss: 5.7434, Train RMSE: 0.7867, Test RMSE: 0.8685\n",
      "Epoch 15/20, Loss: 5.7409, Train RMSE: 0.7867, Test RMSE: 0.8686\n",
      "Epoch 16/20, Loss: 5.7388, Train RMSE: 0.7867, Test RMSE: 0.8687\n",
      "Epoch 17/20, Loss: 5.7369, Train RMSE: 0.7867, Test RMSE: 0.8688\n",
      "Epoch 18/20, Loss: 5.7353, Train RMSE: 0.7868, Test RMSE: 0.8689\n",
      "Epoch 19/20, Loss: 5.7339, Train RMSE: 0.7868, Test RMSE: 0.8690\n"
     ]
    },
    {
     "name": "stderr",
     "output_type": "stream",
     "text": [
      "[I 2025-07-17 10:48:10,697] Trial 0 finished with value: 0.8690544134015082 and parameters: {'lam': 0.00010095388586375818, 'gamma': 7.272622173852929e-05, 'tau': 0.007333906254505829, 'embeddings_dim': 42, 'scale': 0.9580470445856443}. Best is trial 0 with value: 0.8690544134015082.\n"
     ]
    },
    {
     "name": "stdout",
     "output_type": "stream",
     "text": [
      "Epoch 20/20, Loss: 5.7326, Train RMSE: 0.7868, Test RMSE: 0.8691\n",
      "Epoch 1/20, Loss: 388.0087, Train RMSE: 0.1635, Test RMSE: 4.8519\n",
      "Epoch 2/20, Loss: 170.0565, Train RMSE: 0.1067, Test RMSE: 3.9182\n",
      "Epoch 3/20, Loss: 101.3111, Train RMSE: 0.0810, Test RMSE: 3.6939\n",
      "Epoch 4/20, Loss: 68.8412, Train RMSE: 0.0654, Test RMSE: 3.6020\n",
      "Epoch 5/20, Loss: 50.4751, Train RMSE: 0.0547, Test RMSE: 3.5398\n",
      "Epoch 6/20, Loss: 38.9761, Train RMSE: 0.0467, Test RMSE: 3.5143\n",
      "Epoch 7/20, Loss: 31.3412, Train RMSE: 0.0406, Test RMSE: 3.5077\n",
      "Epoch 8/20, Loss: 26.0724, Train RMSE: 0.0358, Test RMSE: 3.4845\n",
      "Epoch 9/20, Loss: 22.2955, Train RMSE: 0.0319, Test RMSE: 3.4540\n",
      "Epoch 10/20, Loss: 19.4939, Train RMSE: 0.0287, Test RMSE: 3.4202\n",
      "Epoch 11/20, Loss: 17.3597, Train RMSE: 0.0260, Test RMSE: 3.3858\n",
      "Epoch 12/20, Loss: 15.6970, Train RMSE: 0.0236, Test RMSE: 3.3582\n",
      "Epoch 13/20, Loss: 14.3792, Train RMSE: 0.0216, Test RMSE: 3.3324\n",
      "Epoch 14/20, Loss: 13.3194, Train RMSE: 0.0199, Test RMSE: 3.3154\n",
      "Epoch 15/20, Loss: 12.4563, Train RMSE: 0.0183, Test RMSE: 3.3046\n",
      "Epoch 16/20, Loss: 11.7451, Train RMSE: 0.0170, Test RMSE: 3.2961\n",
      "Epoch 17/20, Loss: 11.1534, Train RMSE: 0.0158, Test RMSE: 3.2854\n",
      "Epoch 18/20, Loss: 10.6571, Train RMSE: 0.0147, Test RMSE: 3.2728\n",
      "Epoch 19/20, Loss: 10.2372, Train RMSE: 0.0137, Test RMSE: 3.2582\n"
     ]
    },
    {
     "name": "stderr",
     "output_type": "stream",
     "text": [
      "[I 2025-07-17 10:49:07,437] Trial 1 finished with value: 3.2431972947584438 and parameters: {'lam': 0.1753607352314786, 'gamma': 0.0003223566228544517, 'tau': 1.0339018450815517e-05, 'embeddings_dim': 82, 'scale': 0.8933394439757182}. Best is trial 0 with value: 0.8690544134015082.\n"
     ]
    },
    {
     "name": "stdout",
     "output_type": "stream",
     "text": [
      "Epoch 20/20, Loss: 9.8791, Train RMSE: 0.0128, Test RMSE: 3.2432\n",
      "Epoch 1/20, Loss: 10.2323, Train RMSE: 0.1317, Test RMSE: 1.3472\n",
      "Epoch 2/20, Loss: 7.1964, Train RMSE: 0.0618, Test RMSE: 1.1878\n",
      "Epoch 3/20, Loss: 6.2693, Train RMSE: 0.0358, Test RMSE: 1.1314\n",
      "Epoch 4/20, Loss: 5.7714, Train RMSE: 0.0232, Test RMSE: 1.1018\n",
      "Epoch 5/20, Loss: 5.4376, Train RMSE: 0.0163, Test RMSE: 1.0829\n",
      "Epoch 6/20, Loss: 5.1862, Train RMSE: 0.0124, Test RMSE: 1.0697\n",
      "Epoch 7/20, Loss: 4.9835, Train RMSE: 0.0101, Test RMSE: 1.0600\n",
      "Epoch 8/20, Loss: 4.8128, Train RMSE: 0.0088, Test RMSE: 1.0528\n",
      "Epoch 9/20, Loss: 4.6648, Train RMSE: 0.0080, Test RMSE: 1.0475\n",
      "Epoch 10/20, Loss: 4.5339, Train RMSE: 0.0076, Test RMSE: 1.0438\n",
      "Epoch 11/20, Loss: 4.4164, Train RMSE: 0.0072, Test RMSE: 1.0413\n",
      "Epoch 12/20, Loss: 4.3098, Train RMSE: 0.0070, Test RMSE: 1.0397\n",
      "Epoch 13/20, Loss: 4.2121, Train RMSE: 0.0069, Test RMSE: 1.0389\n",
      "Epoch 14/20, Loss: 4.1219, Train RMSE: 0.0067, Test RMSE: 1.0388\n",
      "Epoch 15/20, Loss: 4.0383, Train RMSE: 0.0066, Test RMSE: 1.0392\n",
      "Epoch 16/20, Loss: 3.9602, Train RMSE: 0.0066, Test RMSE: 1.0399\n",
      "Epoch 17/20, Loss: 3.8872, Train RMSE: 0.0065, Test RMSE: 1.0410\n",
      "Epoch 18/20, Loss: 3.8186, Train RMSE: 0.0064, Test RMSE: 1.0423\n",
      "Epoch 19/20, Loss: 3.7539, Train RMSE: 0.0064, Test RMSE: 1.0438\n"
     ]
    },
    {
     "name": "stderr",
     "output_type": "stream",
     "text": [
      "[I 2025-07-17 10:50:07,229] Trial 2 finished with value: 1.045494293007708 and parameters: {'lam': 0.0007675672095556048, 'gamma': 0.0005394516010415575, 'tau': 7.281480964990747e-05, 'embeddings_dim': 86, 'scale': 0.05348622726843088}. Best is trial 0 with value: 0.8690544134015082.\n"
     ]
    },
    {
     "name": "stdout",
     "output_type": "stream",
     "text": [
      "Epoch 20/20, Loss: 3.6928, Train RMSE: 0.0063, Test RMSE: 1.0455\n",
      "Epoch 1/20, Loss: 182.3666, Train RMSE: 0.4666, Test RMSE: 1.1318\n",
      "Epoch 2/20, Loss: 86.9160, Train RMSE: 0.2032, Test RMSE: 1.0748\n",
      "Epoch 3/20, Loss: 68.1258, Train RMSE: 0.1441, Test RMSE: 1.0546\n",
      "Epoch 4/20, Loss: 58.6260, Train RMSE: 0.1133, Test RMSE: 1.0471\n",
      "Epoch 5/20, Loss: 52.7431, Train RMSE: 0.0940, Test RMSE: 1.0437\n",
      "Epoch 6/20, Loss: 48.6979, Train RMSE: 0.0807, Test RMSE: 1.0418\n",
      "Epoch 7/20, Loss: 45.7250, Train RMSE: 0.0711, Test RMSE: 1.0406\n",
      "Epoch 8/20, Loss: 43.4370, Train RMSE: 0.0638, Test RMSE: 1.0398\n",
      "Epoch 9/20, Loss: 41.6164, Train RMSE: 0.0582, Test RMSE: 1.0393\n",
      "Epoch 10/20, Loss: 40.1309, Train RMSE: 0.0536, Test RMSE: 1.0389\n",
      "Epoch 11/20, Loss: 38.8948, Train RMSE: 0.0499, Test RMSE: 1.0386\n",
      "Epoch 12/20, Loss: 37.8498, Train RMSE: 0.0469, Test RMSE: 1.0384\n",
      "Epoch 13/20, Loss: 36.9546, Train RMSE: 0.0444, Test RMSE: 1.0383\n",
      "Epoch 14/20, Loss: 36.1790, Train RMSE: 0.0422, Test RMSE: 1.0382\n",
      "Epoch 15/20, Loss: 35.5004, Train RMSE: 0.0404, Test RMSE: 1.0382\n",
      "Epoch 16/20, Loss: 34.9017, Train RMSE: 0.0388, Test RMSE: 1.0382\n",
      "Epoch 17/20, Loss: 34.3692, Train RMSE: 0.0374, Test RMSE: 1.0383\n",
      "Epoch 18/20, Loss: 33.8923, Train RMSE: 0.0363, Test RMSE: 1.0384\n",
      "Epoch 19/20, Loss: 33.4627, Train RMSE: 0.0352, Test RMSE: 1.0385\n"
     ]
    },
    {
     "name": "stderr",
     "output_type": "stream",
     "text": [
      "[I 2025-07-17 10:50:50,926] Trial 3 finished with value: 1.038711736331995 and parameters: {'lam': 0.005694294477749034, 'gamma': 0.00267217751516015, 'tau': 0.0016372372442579487, 'embeddings_dim': 61, 'scale': 0.8350978213844}. Best is trial 0 with value: 0.8690544134015082.\n"
     ]
    },
    {
     "name": "stdout",
     "output_type": "stream",
     "text": [
      "Epoch 20/20, Loss: 33.0732, Train RMSE: 0.0343, Test RMSE: 1.0387\n",
      "Epoch 1/20, Loss: 391.1287, Train RMSE: 0.8544, Test RMSE: 0.9153\n",
      "Epoch 2/20, Loss: 355.9197, Train RMSE: 0.8506, Test RMSE: 0.9111\n",
      "Epoch 3/20, Loss: 345.4824, Train RMSE: 0.8428, Test RMSE: 0.9142\n",
      "Epoch 4/20, Loss: 341.4779, Train RMSE: 0.8394, Test RMSE: 0.9182\n",
      "Epoch 5/20, Loss: 339.8270, Train RMSE: 0.8386, Test RMSE: 0.9214\n",
      "Epoch 6/20, Loss: 339.1187, Train RMSE: 0.8389, Test RMSE: 0.9238\n",
      "Epoch 7/20, Loss: 338.8060, Train RMSE: 0.8393, Test RMSE: 0.9255\n",
      "Epoch 8/20, Loss: 338.6646, Train RMSE: 0.8398, Test RMSE: 0.9267\n",
      "Epoch 9/20, Loss: 338.5992, Train RMSE: 0.8401, Test RMSE: 0.9275\n",
      "Epoch 10/20, Loss: 338.5679, Train RMSE: 0.8404, Test RMSE: 0.9281\n",
      "Epoch 11/20, Loss: 338.5524, Train RMSE: 0.8406, Test RMSE: 0.9284\n",
      "Epoch 12/20, Loss: 338.5442, Train RMSE: 0.8407, Test RMSE: 0.9287\n",
      "Epoch 13/20, Loss: 338.5396, Train RMSE: 0.8408, Test RMSE: 0.9288\n",
      "Epoch 14/20, Loss: 338.5368, Train RMSE: 0.8409, Test RMSE: 0.9289\n",
      "Epoch 15/20, Loss: 338.5350, Train RMSE: 0.8409, Test RMSE: 0.9290\n",
      "Epoch 16/20, Loss: 338.5337, Train RMSE: 0.8410, Test RMSE: 0.9290\n",
      "Epoch 17/20, Loss: 338.5327, Train RMSE: 0.8410, Test RMSE: 0.9291\n",
      "Epoch 18/20, Loss: 338.5320, Train RMSE: 0.8410, Test RMSE: 0.9291\n",
      "Epoch 19/20, Loss: 338.5314, Train RMSE: 0.8410, Test RMSE: 0.9291\n"
     ]
    },
    {
     "name": "stderr",
     "output_type": "stream",
     "text": [
      "[I 2025-07-17 10:51:40,303] Trial 4 finished with value: 0.9290867947866482 and parameters: {'lam': 0.00293859061127446, 'gamma': 0.03191815266524708, 'tau': 0.06377576871401862, 'embeddings_dim': 71, 'scale': 0.342622582536854}. Best is trial 0 with value: 0.8690544134015082.\n"
     ]
    },
    {
     "name": "stdout",
     "output_type": "stream",
     "text": [
      "Epoch 20/20, Loss: 338.5309, Train RMSE: 0.8410, Test RMSE: 0.9291\n",
      "Epoch 1/20, Loss: 7690.6807, Train RMSE: 0.3098, Test RMSE: 1.1496\n",
      "Epoch 2/20, Loss: 4847.9375, Train RMSE: 0.2202, Test RMSE: 1.1189\n",
      "Epoch 3/20, Loss: 3868.9857, Train RMSE: 0.1795, Test RMSE: 1.1070\n",
      "Epoch 4/20, Loss: 3385.8944, Train RMSE: 0.1563, Test RMSE: 1.1014\n",
      "Epoch 5/20, Loss: 3098.7920, Train RMSE: 0.1410, Test RMSE: 1.0994\n",
      "Epoch 6/20, Loss: 2908.8127, Train RMSE: 0.1302, Test RMSE: 1.0995\n",
      "Epoch 7/20, Loss: 2772.9168, Train RMSE: 0.1219, Test RMSE: 1.1009\n",
      "Epoch 8/20, Loss: 2670.1437, Train RMSE: 0.1154, Test RMSE: 1.1031\n",
      "Epoch 9/20, Loss: 2589.5537, Train RMSE: 0.1101, Test RMSE: 1.1059\n",
      "Epoch 10/20, Loss: 2524.7554, Train RMSE: 0.1056, Test RMSE: 1.1089\n",
      "Epoch 11/20, Loss: 2471.6207, Train RMSE: 0.1019, Test RMSE: 1.1122\n",
      "Epoch 12/20, Loss: 2427.3123, Train RMSE: 0.0986, Test RMSE: 1.1155\n",
      "Epoch 13/20, Loss: 2389.8319, Train RMSE: 0.0958, Test RMSE: 1.1189\n",
      "Epoch 14/20, Loss: 2357.7525, Train RMSE: 0.0933, Test RMSE: 1.1222\n",
      "Epoch 15/20, Loss: 2330.0288, Train RMSE: 0.0912, Test RMSE: 1.1254\n",
      "Epoch 16/20, Loss: 2305.8690, Train RMSE: 0.0892, Test RMSE: 1.1284\n",
      "Epoch 17/20, Loss: 2284.6537, Train RMSE: 0.0875, Test RMSE: 1.1312\n",
      "Epoch 18/20, Loss: 2265.8876, Train RMSE: 0.0860, Test RMSE: 1.1339\n",
      "Epoch 19/20, Loss: 2249.1711, Train RMSE: 0.0846, Test RMSE: 1.1364\n"
     ]
    },
    {
     "name": "stderr",
     "output_type": "stream",
     "text": [
      "[I 2025-07-17 10:52:14,212] Trial 5 finished with value: 1.1388770272760076 and parameters: {'lam': 0.5509714539009665, 'gamma': 8.516731558659594e-05, 'tau': 0.23589036787971945, 'embeddings_dim': 42, 'scale': 0.09674982906442298}. Best is trial 0 with value: 0.8690544134015082.\n"
     ]
    },
    {
     "name": "stdout",
     "output_type": "stream",
     "text": [
      "Epoch 20/20, Loss: 2234.1818, Train RMSE: 0.0833, Test RMSE: 1.1389\n",
      "Epoch 1/20, Loss: 3.9850, Train RMSE: 0.4077, Test RMSE: 1.4246\n",
      "Epoch 2/20, Loss: 2.8982, Train RMSE: 0.3426, Test RMSE: 1.4022\n",
      "Epoch 3/20, Loss: 2.4505, Train RMSE: 0.3111, Test RMSE: 1.3970\n",
      "Epoch 4/20, Loss: 2.1890, Train RMSE: 0.2912, Test RMSE: 1.3989\n",
      "Epoch 5/20, Loss: 2.0110, Train RMSE: 0.2770, Test RMSE: 1.4035\n",
      "Epoch 6/20, Loss: 1.8785, Train RMSE: 0.2660, Test RMSE: 1.4073\n",
      "Epoch 7/20, Loss: 1.7747, Train RMSE: 0.2571, Test RMSE: 1.4096\n",
      "Epoch 8/20, Loss: 1.6911, Train RMSE: 0.2497, Test RMSE: 1.4110\n",
      "Epoch 9/20, Loss: 1.6227, Train RMSE: 0.2435, Test RMSE: 1.4120\n",
      "Epoch 10/20, Loss: 1.5659, Train RMSE: 0.2383, Test RMSE: 1.4126\n",
      "Epoch 11/20, Loss: 1.5179, Train RMSE: 0.2338, Test RMSE: 1.4132\n",
      "Epoch 12/20, Loss: 1.4769, Train RMSE: 0.2299, Test RMSE: 1.4139\n",
      "Epoch 13/20, Loss: 1.4413, Train RMSE: 0.2266, Test RMSE: 1.4148\n",
      "Epoch 14/20, Loss: 1.4100, Train RMSE: 0.2235, Test RMSE: 1.4158\n",
      "Epoch 15/20, Loss: 1.3823, Train RMSE: 0.2208, Test RMSE: 1.4171\n",
      "Epoch 16/20, Loss: 1.3574, Train RMSE: 0.2184, Test RMSE: 1.4188\n",
      "Epoch 17/20, Loss: 1.3349, Train RMSE: 0.2162, Test RMSE: 1.4206\n",
      "Epoch 18/20, Loss: 1.3144, Train RMSE: 0.2141, Test RMSE: 1.4225\n",
      "Epoch 19/20, Loss: 1.2956, Train RMSE: 0.2122, Test RMSE: 1.4243\n"
     ]
    },
    {
     "name": "stderr",
     "output_type": "stream",
     "text": [
      "[I 2025-07-17 10:52:43,289] Trial 6 finished with value: 1.4260856915571833 and parameters: {'lam': 0.00023725832346147073, 'gamma': 1.6230809254814804e-05, 'tau': 1.6963515002552207e-05, 'embeddings_dim': 25, 'scale': 0.044069288655924396}. Best is trial 0 with value: 0.8690544134015082.\n"
     ]
    },
    {
     "name": "stdout",
     "output_type": "stream",
     "text": [
      "Epoch 20/20, Loss: 1.2783, Train RMSE: 0.2104, Test RMSE: 1.4261\n",
      "Epoch 1/20, Loss: 971.4848, Train RMSE: 0.1444, Test RMSE: 6.2982\n",
      "Epoch 2/20, Loss: 366.6135, Train RMSE: 0.0855, Test RMSE: 5.1593\n",
      "Epoch 3/20, Loss: 203.6418, Train RMSE: 0.0606, Test RMSE: 4.8185\n",
      "Epoch 4/20, Loss: 135.9947, Train RMSE: 0.0466, Test RMSE: 4.3045\n",
      "Epoch 5/20, Loss: 101.4514, Train RMSE: 0.0375, Test RMSE: 4.1679\n",
      "Epoch 6/20, Loss: 81.4501, Train RMSE: 0.0312, Test RMSE: 4.0198\n",
      "Epoch 7/20, Loss: 68.8044, Train RMSE: 0.0264, Test RMSE: 3.9065\n",
      "Epoch 8/20, Loss: 60.2592, Train RMSE: 0.0227, Test RMSE: 3.8053\n",
      "Epoch 9/20, Loss: 54.2123, Train RMSE: 0.0198, Test RMSE: 3.6912\n",
      "Epoch 10/20, Loss: 49.7859, Train RMSE: 0.0173, Test RMSE: 3.5778\n",
      "Epoch 11/20, Loss: 46.4557, Train RMSE: 0.0153, Test RMSE: 3.4615\n",
      "Epoch 12/20, Loss: 43.9007, Train RMSE: 0.0136, Test RMSE: 3.3887\n",
      "Epoch 13/20, Loss: 41.8995, Train RMSE: 0.0121, Test RMSE: 3.3337\n",
      "Epoch 14/20, Loss: 40.3045, Train RMSE: 0.0108, Test RMSE: 3.2815\n",
      "Epoch 15/20, Loss: 39.0142, Train RMSE: 0.0098, Test RMSE: 3.2377\n",
      "Epoch 16/20, Loss: 37.9537, Train RMSE: 0.0088, Test RMSE: 3.1978\n",
      "Epoch 17/20, Loss: 37.0692, Train RMSE: 0.0080, Test RMSE: 3.1612\n",
      "Epoch 18/20, Loss: 36.3211, Train RMSE: 0.0073, Test RMSE: 3.1282\n",
      "Epoch 19/20, Loss: 35.6793, Train RMSE: 0.0066, Test RMSE: 3.0972\n"
     ]
    },
    {
     "name": "stderr",
     "output_type": "stream",
     "text": [
      "[I 2025-07-17 10:53:49,741] Trial 7 finished with value: 3.069159678589878 and parameters: {'lam': 0.5457896714778095, 'gamma': 0.0002979249572665722, 'tau': 0.0001058724600677635, 'embeddings_dim': 91, 'scale': 0.9856850471978281}. Best is trial 0 with value: 0.8690544134015082.\n"
     ]
    },
    {
     "name": "stdout",
     "output_type": "stream",
     "text": [
      "Epoch 20/20, Loss: 35.1232, Train RMSE: 0.0061, Test RMSE: 3.0692\n",
      "Epoch 1/20, Loss: 69.3833, Train RMSE: 0.7939, Test RMSE: 0.9209\n",
      "Epoch 2/20, Loss: 51.9691, Train RMSE: 0.6156, Test RMSE: 0.8715\n",
      "Epoch 3/20, Loss: 47.2282, Train RMSE: 0.5322, Test RMSE: 0.8754\n",
      "Epoch 4/20, Loss: 46.1000, Train RMSE: 0.5088, Test RMSE: 0.8783\n",
      "Epoch 5/20, Loss: 45.6043, Train RMSE: 0.4989, Test RMSE: 0.8795\n",
      "Epoch 6/20, Loss: 45.3246, Train RMSE: 0.4934, Test RMSE: 0.8799\n",
      "Epoch 7/20, Loss: 45.1457, Train RMSE: 0.4900, Test RMSE: 0.8800\n",
      "Epoch 8/20, Loss: 45.0223, Train RMSE: 0.4877, Test RMSE: 0.8800\n",
      "Epoch 9/20, Loss: 44.9324, Train RMSE: 0.4860, Test RMSE: 0.8800\n",
      "Epoch 10/20, Loss: 44.8641, Train RMSE: 0.4847, Test RMSE: 0.8801\n",
      "Epoch 11/20, Loss: 44.8105, Train RMSE: 0.4837, Test RMSE: 0.8802\n",
      "Epoch 12/20, Loss: 44.7674, Train RMSE: 0.4829, Test RMSE: 0.8803\n",
      "Epoch 13/20, Loss: 44.7322, Train RMSE: 0.4822, Test RMSE: 0.8804\n",
      "Epoch 14/20, Loss: 44.7030, Train RMSE: 0.4816, Test RMSE: 0.8806\n",
      "Epoch 15/20, Loss: 44.6785, Train RMSE: 0.4811, Test RMSE: 0.8808\n",
      "Epoch 16/20, Loss: 44.6577, Train RMSE: 0.4807, Test RMSE: 0.8810\n",
      "Epoch 17/20, Loss: 44.6399, Train RMSE: 0.4804, Test RMSE: 0.8812\n",
      "Epoch 18/20, Loss: 44.6243, Train RMSE: 0.4801, Test RMSE: 0.8814\n",
      "Epoch 19/20, Loss: 44.6106, Train RMSE: 0.4798, Test RMSE: 0.8816\n"
     ]
    },
    {
     "name": "stderr",
     "output_type": "stream",
     "text": [
      "[I 2025-07-17 10:54:25,733] Trial 8 finished with value: 0.8817770822313765 and parameters: {'lam': 0.001205761455839939, 'gamma': 0.00014512481932844217, 'tau': 0.008957752873333138, 'embeddings_dim': 27, 'scale': 0.7237607886463744}. Best is trial 0 with value: 0.8690544134015082.\n"
     ]
    },
    {
     "name": "stdout",
     "output_type": "stream",
     "text": [
      "Epoch 20/20, Loss: 44.5984, Train RMSE: 0.4795, Test RMSE: 0.8818\n",
      "Epoch 1/20, Loss: 7.1870, Train RMSE: 0.8103, Test RMSE: 1.0986\n",
      "Epoch 2/20, Loss: 4.3813, Train RMSE: 0.3467, Test RMSE: 0.9674\n",
      "Epoch 3/20, Loss: 3.8147, Train RMSE: 0.2964, Test RMSE: 0.9476\n",
      "Epoch 4/20, Loss: 3.5209, Train RMSE: 0.2816, Test RMSE: 0.9435\n",
      "Epoch 5/20, Loss: 3.3378, Train RMSE: 0.2762, Test RMSE: 0.9439\n",
      "Epoch 6/20, Loss: 3.2135, Train RMSE: 0.2738, Test RMSE: 0.9459\n",
      "Epoch 7/20, Loss: 3.1247, Train RMSE: 0.2727, Test RMSE: 0.9485\n",
      "Epoch 8/20, Loss: 3.0589, Train RMSE: 0.2722, Test RMSE: 0.9512\n",
      "Epoch 9/20, Loss: 3.0087, Train RMSE: 0.2719, Test RMSE: 0.9540\n",
      "Epoch 10/20, Loss: 2.9695, Train RMSE: 0.2717, Test RMSE: 0.9567\n",
      "Epoch 11/20, Loss: 2.9385, Train RMSE: 0.2717, Test RMSE: 0.9593\n",
      "Epoch 12/20, Loss: 2.9135, Train RMSE: 0.2716, Test RMSE: 0.9619\n",
      "Epoch 13/20, Loss: 2.8931, Train RMSE: 0.2716, Test RMSE: 0.9642\n",
      "Epoch 14/20, Loss: 2.8763, Train RMSE: 0.2716, Test RMSE: 0.9665\n",
      "Epoch 15/20, Loss: 2.8623, Train RMSE: 0.2717, Test RMSE: 0.9687\n",
      "Epoch 16/20, Loss: 2.8506, Train RMSE: 0.2717, Test RMSE: 0.9707\n",
      "Epoch 17/20, Loss: 2.8406, Train RMSE: 0.2717, Test RMSE: 0.9726\n",
      "Epoch 18/20, Loss: 2.8322, Train RMSE: 0.2717, Test RMSE: 0.9743\n",
      "Epoch 19/20, Loss: 2.8250, Train RMSE: 0.2718, Test RMSE: 0.9760\n"
     ]
    },
    {
     "name": "stderr",
     "output_type": "stream",
     "text": [
      "[I 2025-07-17 10:55:36,229] Trial 9 finished with value: 0.9775642165231315 and parameters: {'lam': 4.76077027873117e-05, 'gamma': 0.0005755223076589173, 'tau': 0.0001862917094249333, 'embeddings_dim': 96, 'scale': 0.9944278539339361}. Best is trial 0 with value: 0.8690544134015082.\n"
     ]
    },
    {
     "name": "stdout",
     "output_type": "stream",
     "text": [
      "Epoch 20/20, Loss: 2.8187, Train RMSE: 0.2718, Test RMSE: 0.9776\n",
      "Epoch 1/20, Loss: 30.7293, Train RMSE: 3.6027, Test RMSE: 3.6034\n",
      "Epoch 2/20, Loss: 30.7258, Train RMSE: 3.6028, Test RMSE: 3.6035\n",
      "Epoch 3/20, Loss: 30.7258, Train RMSE: 3.6028, Test RMSE: 3.6035\n",
      "Epoch 4/20, Loss: 30.7258, Train RMSE: 3.6028, Test RMSE: 3.6035\n",
      "Epoch 5/20, Loss: 30.7258, Train RMSE: 3.6028, Test RMSE: 3.6035\n",
      "Epoch 6/20, Loss: 30.7258, Train RMSE: 3.6028, Test RMSE: 3.6035\n",
      "Epoch 7/20, Loss: 30.7258, Train RMSE: 3.6028, Test RMSE: 3.6035\n",
      "Epoch 8/20, Loss: 30.7258, Train RMSE: 3.6028, Test RMSE: 3.6035\n",
      "Epoch 9/20, Loss: 30.7258, Train RMSE: 3.6028, Test RMSE: 3.6035\n",
      "Epoch 10/20, Loss: 30.7258, Train RMSE: 3.6028, Test RMSE: 3.6035\n",
      "Epoch 11/20, Loss: 30.7258, Train RMSE: 3.6028, Test RMSE: 3.6035\n",
      "Epoch 12/20, Loss: 30.7258, Train RMSE: 3.6028, Test RMSE: 3.6035\n",
      "Epoch 13/20, Loss: 30.7258, Train RMSE: 3.6028, Test RMSE: 3.6035\n",
      "Epoch 14/20, Loss: 30.7258, Train RMSE: 3.6028, Test RMSE: 3.6035\n",
      "Epoch 15/20, Loss: 30.7258, Train RMSE: 3.6028, Test RMSE: 3.6035\n",
      "Epoch 16/20, Loss: 30.7258, Train RMSE: 3.6028, Test RMSE: 3.6035\n",
      "Epoch 17/20, Loss: 30.7258, Train RMSE: 3.6028, Test RMSE: 3.6035\n",
      "Epoch 18/20, Loss: 30.7258, Train RMSE: 3.6028, Test RMSE: 3.6035\n",
      "Epoch 19/20, Loss: 30.7258, Train RMSE: 3.6028, Test RMSE: 3.6035\n"
     ]
    },
    {
     "name": "stderr",
     "output_type": "stream",
     "text": [
      "[I 2025-07-17 10:56:06,417] Trial 10 finished with value: 3.6034890484306277 and parameters: {'lam': 2.891002375430862e-05, 'gamma': 0.9127808396469022, 'tau': 0.9718158891736371, 'embeddings_dim': 13, 'scale': 0.5656411152990406}. Best is trial 0 with value: 0.8690544134015082.\n"
     ]
    },
    {
     "name": "stdout",
     "output_type": "stream",
     "text": [
      "Epoch 20/20, Loss: 30.7258, Train RMSE: 3.6028, Test RMSE: 3.6035\n",
      "Epoch 1/20, Loss: 680.2581, Train RMSE: 0.5306, Test RMSE: 1.0271\n",
      "Epoch 2/20, Loss: 304.1036, Train RMSE: 0.2882, Test RMSE: 1.0252\n",
      "Epoch 3/20, Loss: 221.1363, Train RMSE: 0.2243, Test RMSE: 1.0329\n",
      "Epoch 4/20, Loss: 180.8413, Train RMSE: 0.1903, Test RMSE: 1.0420\n",
      "Epoch 5/20, Loss: 157.0459, Train RMSE: 0.1689, Test RMSE: 1.0497\n",
      "Epoch 6/20, Loss: 141.4250, Train RMSE: 0.1540, Test RMSE: 1.0568\n",
      "Epoch 7/20, Loss: 130.4331, Train RMSE: 0.1429, Test RMSE: 1.0635\n",
      "Epoch 8/20, Loss: 122.3300, Train RMSE: 0.1342, Test RMSE: 1.0695\n",
      "Epoch 9/20, Loss: 116.1664, Train RMSE: 0.1272, Test RMSE: 1.0749\n",
      "Epoch 10/20, Loss: 111.3626, Train RMSE: 0.1216, Test RMSE: 1.0795\n",
      "Epoch 11/20, Loss: 107.5384, Train RMSE: 0.1168, Test RMSE: 1.0837\n",
      "Epoch 12/20, Loss: 104.4369, Train RMSE: 0.1128, Test RMSE: 1.0875\n",
      "Epoch 13/20, Loss: 101.8810, Train RMSE: 0.1094, Test RMSE: 1.0911\n",
      "Epoch 14/20, Loss: 99.7442, Train RMSE: 0.1064, Test RMSE: 1.0944\n",
      "Epoch 15/20, Loss: 97.9341, Train RMSE: 0.1038, Test RMSE: 1.0975\n",
      "Epoch 16/20, Loss: 96.3822, Train RMSE: 0.1014, Test RMSE: 1.1006\n",
      "Epoch 17/20, Loss: 95.0378, Train RMSE: 0.0993, Test RMSE: 1.1035\n",
      "Epoch 18/20, Loss: 93.8630, Train RMSE: 0.0974, Test RMSE: 1.1063\n",
      "Epoch 19/20, Loss: 92.8294, Train RMSE: 0.0957, Test RMSE: 1.1090\n"
     ]
    },
    {
     "name": "stderr",
     "output_type": "stream",
     "text": [
      "[I 2025-07-17 10:56:44,702] Trial 11 finished with value: 1.1116996323992547 and parameters: {'lam': 0.022192501373959672, 'gamma': 1.0532198385729573e-05, 'tau': 0.008976234587102746, 'embeddings_dim': 40, 'scale': 0.6914422590960703}. Best is trial 0 with value: 0.8690544134015082.\n"
     ]
    },
    {
     "name": "stdout",
     "output_type": "stream",
     "text": [
      "Epoch 20/20, Loss: 91.9151, Train RMSE: 0.0941, Test RMSE: 1.1117\n",
      "Epoch 1/20, Loss: 12.0603, Train RMSE: 0.8484, Test RMSE: 0.9317\n",
      "Epoch 2/20, Loss: 9.7368, Train RMSE: 0.7843, Test RMSE: 0.8728\n",
      "Epoch 3/20, Loss: 9.6749, Train RMSE: 0.7823, Test RMSE: 0.8717\n",
      "Epoch 4/20, Loss: 9.6648, Train RMSE: 0.7821, Test RMSE: 0.8718\n",
      "Epoch 5/20, Loss: 9.6588, Train RMSE: 0.7821, Test RMSE: 0.8718\n",
      "Epoch 6/20, Loss: 9.6536, Train RMSE: 0.7821, Test RMSE: 0.8718\n",
      "Epoch 7/20, Loss: 9.6489, Train RMSE: 0.7821, Test RMSE: 0.8717\n",
      "Epoch 8/20, Loss: 9.6445, Train RMSE: 0.7821, Test RMSE: 0.8717\n",
      "Epoch 9/20, Loss: 9.6405, Train RMSE: 0.7821, Test RMSE: 0.8717\n",
      "Epoch 10/20, Loss: 9.6368, Train RMSE: 0.7821, Test RMSE: 0.8717\n",
      "Epoch 11/20, Loss: 9.6333, Train RMSE: 0.7821, Test RMSE: 0.8717\n",
      "Epoch 12/20, Loss: 9.6301, Train RMSE: 0.7821, Test RMSE: 0.8717\n",
      "Epoch 13/20, Loss: 9.6272, Train RMSE: 0.7821, Test RMSE: 0.8717\n",
      "Epoch 14/20, Loss: 9.6244, Train RMSE: 0.7821, Test RMSE: 0.8717\n",
      "Epoch 15/20, Loss: 9.6218, Train RMSE: 0.7821, Test RMSE: 0.8718\n",
      "Epoch 16/20, Loss: 9.6195, Train RMSE: 0.7821, Test RMSE: 0.8718\n",
      "Epoch 17/20, Loss: 9.6173, Train RMSE: 0.7821, Test RMSE: 0.8718\n",
      "Epoch 18/20, Loss: 9.6152, Train RMSE: 0.7821, Test RMSE: 0.8718\n",
      "Epoch 19/20, Loss: 9.6133, Train RMSE: 0.7821, Test RMSE: 0.8719\n"
     ]
    },
    {
     "name": "stderr",
     "output_type": "stream",
     "text": [
      "[I 2025-07-17 10:57:22,248] Trial 12 finished with value: 0.871898901451555 and parameters: {'lam': 0.00018005280576002388, 'gamma': 6.628748599399235e-05, 'tau': 0.006737286195328437, 'embeddings_dim': 39, 'scale': 0.7309928813595263}. Best is trial 0 with value: 0.8690544134015082.\n"
     ]
    },
    {
     "name": "stdout",
     "output_type": "stream",
     "text": [
      "Epoch 20/20, Loss: 9.6116, Train RMSE: 0.7821, Test RMSE: 0.8719\n",
      "Epoch 1/20, Loss: 7.0541, Train RMSE: 2.2655, Test RMSE: 2.2757\n",
      "Epoch 2/20, Loss: 6.6120, Train RMSE: 2.1617, Test RMSE: 2.1697\n",
      "Epoch 3/20, Loss: 6.3990, Train RMSE: 2.0370, Test RMSE: 2.0532\n",
      "Epoch 4/20, Loss: 6.3313, Train RMSE: 2.0052, Test RMSE: 2.0263\n",
      "Epoch 5/20, Loss: 6.3172, Train RMSE: 1.9976, Test RMSE: 2.0211\n",
      "Epoch 6/20, Loss: 6.3146, Train RMSE: 1.9958, Test RMSE: 2.0202\n",
      "Epoch 7/20, Loss: 6.3141, Train RMSE: 1.9953, Test RMSE: 2.0202\n",
      "Epoch 8/20, Loss: 6.3140, Train RMSE: 1.9952, Test RMSE: 2.0203\n",
      "Epoch 9/20, Loss: 6.3140, Train RMSE: 1.9952, Test RMSE: 2.0203\n",
      "Epoch 10/20, Loss: 6.3140, Train RMSE: 1.9952, Test RMSE: 2.0203\n",
      "Epoch 11/20, Loss: 6.3140, Train RMSE: 1.9952, Test RMSE: 2.0203\n",
      "Epoch 12/20, Loss: 6.3140, Train RMSE: 1.9952, Test RMSE: 2.0203\n",
      "Epoch 13/20, Loss: 6.3140, Train RMSE: 1.9952, Test RMSE: 2.0203\n",
      "Epoch 14/20, Loss: 6.3140, Train RMSE: 1.9952, Test RMSE: 2.0203\n",
      "Epoch 15/20, Loss: 6.3140, Train RMSE: 1.9952, Test RMSE: 2.0203\n",
      "Epoch 16/20, Loss: 6.3140, Train RMSE: 1.9952, Test RMSE: 2.0203\n",
      "Epoch 17/20, Loss: 6.3140, Train RMSE: 1.9952, Test RMSE: 2.0203\n",
      "Epoch 18/20, Loss: 6.3140, Train RMSE: 1.9952, Test RMSE: 2.0203\n",
      "Epoch 19/20, Loss: 6.3140, Train RMSE: 1.9952, Test RMSE: 2.0203\n"
     ]
    },
    {
     "name": "stderr",
     "output_type": "stream",
     "text": [
      "[I 2025-07-17 10:58:05,113] Trial 13 finished with value: 2.020341302543948 and parameters: {'lam': 1.0522415831746509e-05, 'gamma': 0.004973077059494034, 'tau': 0.0012771539079755308, 'embeddings_dim': 48, 'scale': 0.46617561356301085}. Best is trial 0 with value: 0.8690544134015082.\n"
     ]
    },
    {
     "name": "stdout",
     "output_type": "stream",
     "text": [
      "Epoch 20/20, Loss: 6.3140, Train RMSE: 1.9952, Test RMSE: 2.0203\n"
     ]
    }
   ],
   "source": [
    "study = optuna.create_study(direction='minimize', pruner=optuna.pruners.MedianPruner())\n",
    "study.optimize(objective, n_trials=50)\n",
    "\n",
    "print(\"Best hyperparameters:\", study.best_params)\n",
    "print(\"Best test RMSE:\", study.best_value)\n",
    "\n"
   ]
  },
  {
   "cell_type": "code",
   "execution_count": null,
   "id": "001c0460",
   "metadata": {},
   "outputs": [],
   "source": [
    "def training_optimised_vectorised(user_ratings_train, movie_ratings_train, user_ratings_test,\n",
    "                                  num_epochs=100, lam=0.1, gamma=0.1, tau=0.1, embeddings_dim=20, scale=1):\n",
    "    num_users = len(user_ratings_train)\n",
    "    num_items = len(movie_ratings_train)\n",
    "    \n",
    "    user_embeddings = np.random.normal(0, scale, (num_users, embeddings_dim))\n",
    "    item_embeddings = np.random.normal(0, scale, (num_items, embeddings_dim))\n",
    "    user_biases = np.zeros(num_users)\n",
    "    item_biases = np.zeros(num_items)\n",
    "\n",
    "    tau_identity = tau * np.eye(embeddings_dim)\n",
    "\n",
    "    training_loss, training_RMSE, testing_RMSE = [], [], []\n",
    "\n",
    "    for epoch in range(num_epochs):\n",
    "        # USER UPDATE\n",
    "        for u, ratings in enumerate(user_ratings_train):\n",
    "            movies = np.array([idx for idx, _ in ratings])\n",
    "            actual_ratings = np.array([r for _, r in ratings])\n",
    "\n",
    "            item_vecs = item_embeddings[movies]\n",
    "            item_bias = item_biases[movies]\n",
    "\n",
    "            preds = (item_vecs @ user_embeddings[u]) + item_bias\n",
    "            residuals = actual_ratings - preds\n",
    "\n",
    "            user_biases[u] = lam * np.sum(residuals) / ((lam * len(ratings)) + gamma)\n",
    "\n",
    "            adjusted_residuals = actual_ratings - user_biases[u] - item_bias\n",
    "            user_inverse_term = lam * (item_vecs.T @ item_vecs) + tau_identity\n",
    "            user_term = lam * (item_vecs.T @ adjusted_residuals)\n",
    "\n",
    "            user_embeddings[u] = np.linalg.solve(user_inverse_term, user_term)\n",
    "\n",
    "        # ITEM UPDATE\n",
    "        for m, ratings in enumerate(movie_ratings_train):\n",
    "            users = np.array([idx for idx, _ in ratings])\n",
    "            actual_ratings = np.array([r for _, r in ratings])\n",
    "\n",
    "            user_vecs = user_embeddings[users]\n",
    "            user_bias = user_biases[users]\n",
    "\n",
    "            preds = (user_vecs @ item_embeddings[m]) + user_bias\n",
    "            residuals = actual_ratings - preds\n",
    "\n",
    "            item_biases[m] = lam * np.sum(residuals) / ((lam * len(ratings)) + gamma)\n",
    "\n",
    "            adjusted_residuals = actual_ratings - user_bias - item_biases[m]\n",
    "            item_inverse_term = lam * (user_vecs.T @ user_vecs) + tau_identity\n",
    "            item_term = lam * (user_vecs.T @ adjusted_residuals)\n",
    "\n",
    "            item_embeddings[m] = np.linalg.solve(item_inverse_term, item_term)\n",
    "\n",
    "        # --- Training RMSE ---\n",
    "        train_preds, train_actuals = [], []\n",
    "        for u, ratings in enumerate(user_ratings_train):\n",
    "            movies = np.array([idx for idx, _ in ratings])\n",
    "            actual_ratings = np.array([r for _, r in ratings])\n",
    "\n",
    "            preds = (user_embeddings[u] @ item_embeddings[movies].T) + user_biases[u] + item_biases[movies]\n",
    "            train_preds.append(preds)\n",
    "            train_actuals.append(actual_ratings)\n",
    "\n",
    "        train_preds = np.concatenate(train_preds)\n",
    "        train_actuals = np.concatenate(train_actuals)\n",
    "\n",
    "        train_error = np.sum((train_actuals - train_preds) ** 2)\n",
    "        train_rmse = np.sqrt(train_error / len(train_actuals))\n",
    "\n",
    "        train_loss = (lam * train_error) \\\n",
    "            + (gamma * (np.sum(user_biases ** 2) + np.sum(item_biases ** 2))) \\\n",
    "            + (tau * (np.sum(user_embeddings ** 2) + np.sum(item_embeddings ** 2)))\n",
    "        \n",
    "        training_loss.append(train_loss)\n",
    "        training_RMSE.append(train_rmse)\n",
    "\n",
    "        # --- Testing RMSE ---\n",
    "        test_preds, test_actuals = [], []\n",
    "        for u, ratings in enumerate(user_ratings_test):\n",
    "            movies = np.array([idx for idx, _ in ratings])\n",
    "            actual_ratings = np.array([r for _, r in ratings])\n",
    "\n",
    "            preds = (user_embeddings[u] @ item_embeddings[movies].T) + user_biases[u] + item_biases[movies]\n",
    "            test_preds.append(preds)\n",
    "            test_actuals.append(actual_ratings)\n",
    "\n",
    "        test_preds = np.concatenate(test_preds)\n",
    "        test_actuals = np.concatenate(test_actuals)\n",
    "\n",
    "        test_error = np.sum((test_actuals - test_preds) ** 2)\n",
    "        test_rmse = np.sqrt(test_error / len(test_actuals))\n",
    "        testing_RMSE.append(test_rmse)\n",
    "\n",
    "        print(f\"Epoch {epoch+1}/{num_epochs}, Loss: {train_loss:.4f}, Train RMSE: {train_rmse:.4f}, Test RMSE: {test_rmse:.4f}\")\n",
    "\n",
    "    return training_loss, training_RMSE, testing_RMSE, user_embeddings, item_embeddings\n"
   ]
  },
  {
   "cell_type": "code",
   "execution_count": null,
   "id": "c245af25",
   "metadata": {},
   "outputs": [],
   "source": [
    "scale = const/np.sqrt(embeddings_dim)\n",
    "training_loss, training_RMSE, testing_RMSE, user_embeddings, item_embeddings = training_optimised(\n",
    "    num_epochs=num_epochs,\n",
    "    lam=lam,\n",
    "    gamma=gamma,\n",
    "    tau=tau,\n",
    "    embeddings_dim=embeddings_dim,\n",
    "    scale=scale)"
   ]
  }
 ],
 "metadata": {
  "kernelspec": {
   "display_name": "Python 3",
   "language": "python",
   "name": "python3"
  },
  "language_info": {
   "codemirror_mode": {
    "name": "ipython",
    "version": 3
   },
   "file_extension": ".py",
   "mimetype": "text/x-python",
   "name": "python",
   "nbconvert_exporter": "python",
   "pygments_lexer": "ipython3",
   "version": "3.12.8"
  }
 },
 "nbformat": 4,
 "nbformat_minor": 5
}
