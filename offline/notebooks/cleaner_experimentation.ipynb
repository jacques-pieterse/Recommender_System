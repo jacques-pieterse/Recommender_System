{
 "cells": [
  {
   "cell_type": "code",
   "execution_count": 41,
   "id": "12a51ee6",
   "metadata": {},
   "outputs": [],
   "source": [
    "import data_processing as dp\n",
    "import os\n",
    "import numpy as np\n",
    "import matplotlib.pyplot as plt\n",
    "import time\n",
    "import recommender_model as rm\n",
    "\n",
    "PROCESSED_DATA_PATH = \"../data/processed/\""
   ]
  },
  {
   "cell_type": "code",
   "execution_count": 42,
   "id": "af1e8b12",
   "metadata": {},
   "outputs": [],
   "source": [
    "data_path = os.path.join(PROCESSED_DATA_PATH, \"processed_32m.npz\")\n",
    "data, mappings = dp.load_processed_data(data_path)\n",
    "\n",
    "user_to_idx = mappings['user_to_idx']\n",
    "movie_to_idx = mappings['movie_to_idx']\n",
    "idx_to_user = mappings['idx_to_user']\n",
    "idx_to_movie = mappings['idx_to_movie']\n",
    "\n",
    "all_u_train_u = data['user_train_x']\n",
    "all_m_train_u = data['user_train_y']\n",
    "all_r_train_u = data['user_train_r']\n",
    "user_ptrs_train = data['user_train_ptr']\n",
    "all_u_train_m = data['movie_train_y']\n",
    "all_m_train_m = data['movie_train_x']\n",
    "all_r_train_m = data['movie_train_r']\n",
    "item_ptrs_train = data['movie_train_ptr']\n",
    "all_u_test = data['user_test_x']\n",
    "all_m_test = data['user_test_y']\n",
    "all_r_test = data['user_test_r']\n",
    "user_ptrs_test = data['user_test_ptr']\n",
    "\n",
    "ratings_mean = np.mean(all_r_train_u)\n",
    "num_users = len(mappings['user_to_idx'])\n",
    "num_items = len(mappings['movie_to_idx'])\n"
   ]
  },
  {
   "cell_type": "code",
   "execution_count": 43,
   "id": "411fcea4",
   "metadata": {},
   "outputs": [],
   "source": [
    "lam = 0.1\n",
    "gamma = 0.1\n",
    "tau = 2\n",
    "embeddings_dim = 10\n",
    "scale = 1/embeddings_dim"
   ]
  },
  {
   "cell_type": "code",
   "execution_count": 44,
   "id": "8fb92c75",
   "metadata": {},
   "outputs": [
    {
     "name": "stdout",
     "output_type": "stream",
     "text": [
      "Starting ALS optimization (preprocessed)...\n",
      "Epoch 1/50 | Train RMSE: 0.8422 | Test RMSE: 0.8673 | Time: 39.87s\n",
      "Epoch 2/50 | Train RMSE: 0.7669 | Test RMSE: 0.8178 | Time: 1.81s\n",
      "Epoch 3/50 | Train RMSE: 0.7434 | Test RMSE: 0.7964 | Time: 1.82s\n",
      "Epoch 4/50 | Train RMSE: 0.7339 | Test RMSE: 0.7876 | Time: 1.43s\n",
      "Epoch 5/50 | Train RMSE: 0.7295 | Test RMSE: 0.7834 | Time: 1.53s\n",
      "Epoch 6/50 | Train RMSE: 0.7271 | Test RMSE: 0.7812 | Time: 1.56s\n",
      "Epoch 7/50 | Train RMSE: 0.7256 | Test RMSE: 0.7800 | Time: 1.54s\n",
      "Epoch 8/50 | Train RMSE: 0.7247 | Test RMSE: 0.7792 | Time: 1.46s\n",
      "Epoch 9/50 | Train RMSE: 0.7241 | Test RMSE: 0.7787 | Time: 1.45s\n",
      "Epoch 10/50 | Train RMSE: 0.7236 | Test RMSE: 0.7783 | Time: 1.42s\n",
      "Epoch 11/50 | Train RMSE: 0.7233 | Test RMSE: 0.7780 | Time: 1.40s\n",
      "Epoch 12/50 | Train RMSE: 0.7230 | Test RMSE: 0.7778 | Time: 1.38s\n",
      "Epoch 13/50 | Train RMSE: 0.7228 | Test RMSE: 0.7776 | Time: 1.38s\n",
      "Epoch 14/50 | Train RMSE: 0.7226 | Test RMSE: 0.7775 | Time: 1.46s\n",
      "Epoch 15/50 | Train RMSE: 0.7225 | Test RMSE: 0.7773 | Time: 1.43s\n",
      "Epoch 16/50 | Train RMSE: 0.7223 | Test RMSE: 0.7772 | Time: 1.48s\n",
      "Epoch 17/50 | Train RMSE: 0.7222 | Test RMSE: 0.7771 | Time: 1.40s\n",
      "Epoch 18/50 | Train RMSE: 0.7221 | Test RMSE: 0.7770 | Time: 1.43s\n",
      "Epoch 19/50 | Train RMSE: 0.7221 | Test RMSE: 0.7770 | Time: 1.41s\n",
      "Epoch 20/50 | Train RMSE: 0.7220 | Test RMSE: 0.7769 | Time: 1.42s\n",
      "Epoch 21/50 | Train RMSE: 0.7219 | Test RMSE: 0.7768 | Time: 1.44s\n",
      "Epoch 22/50 | Train RMSE: 0.7219 | Test RMSE: 0.7768 | Time: 1.39s\n",
      "Epoch 23/50 | Train RMSE: 0.7218 | Test RMSE: 0.7767 | Time: 1.41s\n",
      "Epoch 24/50 | Train RMSE: 0.7218 | Test RMSE: 0.7767 | Time: 1.38s\n",
      "Epoch 25/50 | Train RMSE: 0.7217 | Test RMSE: 0.7766 | Time: 1.44s\n",
      "Epoch 26/50 | Train RMSE: 0.7217 | Test RMSE: 0.7766 | Time: 1.44s\n",
      "Epoch 27/50 | Train RMSE: 0.7216 | Test RMSE: 0.7766 | Time: 1.42s\n",
      "Epoch 28/50 | Train RMSE: 0.7216 | Test RMSE: 0.7765 | Time: 1.50s\n",
      "Epoch 29/50 | Train RMSE: 0.7216 | Test RMSE: 0.7765 | Time: 1.39s\n",
      "Epoch 30/50 | Train RMSE: 0.7215 | Test RMSE: 0.7765 | Time: 1.43s\n",
      "Epoch 31/50 | Train RMSE: 0.7215 | Test RMSE: 0.7764 | Time: 1.42s\n",
      "Epoch 32/50 | Train RMSE: 0.7215 | Test RMSE: 0.7764 | Time: 1.41s\n",
      "Epoch 33/50 | Train RMSE: 0.7215 | Test RMSE: 0.7764 | Time: 1.43s\n",
      "Epoch 34/50 | Train RMSE: 0.7214 | Test RMSE: 0.7764 | Time: 1.37s\n",
      "Epoch 35/50 | Train RMSE: 0.7214 | Test RMSE: 0.7764 | Time: 1.41s\n",
      "Epoch 36/50 | Train RMSE: 0.7214 | Test RMSE: 0.7763 | Time: 1.42s\n",
      "Epoch 37/50 | Train RMSE: 0.7214 | Test RMSE: 0.7763 | Time: 1.56s\n",
      "Epoch 38/50 | Train RMSE: 0.7214 | Test RMSE: 0.7763 | Time: 1.56s\n",
      "Epoch 39/50 | Train RMSE: 0.7213 | Test RMSE: 0.7763 | Time: 1.57s\n",
      "Epoch 40/50 | Train RMSE: 0.7213 | Test RMSE: 0.7763 | Time: 1.52s\n",
      "Epoch 41/50 | Train RMSE: 0.7213 | Test RMSE: 0.7762 | Time: 1.50s\n",
      "Epoch 42/50 | Train RMSE: 0.7213 | Test RMSE: 0.7762 | Time: 1.42s\n",
      "Epoch 43/50 | Train RMSE: 0.7213 | Test RMSE: 0.7762 | Time: 1.44s\n",
      "Epoch 44/50 | Train RMSE: 0.7213 | Test RMSE: 0.7762 | Time: 1.39s\n",
      "Epoch 45/50 | Train RMSE: 0.7212 | Test RMSE: 0.7762 | Time: 1.39s\n",
      "Epoch 46/50 | Train RMSE: 0.7212 | Test RMSE: 0.7762 | Time: 1.40s\n",
      "Epoch 47/50 | Train RMSE: 0.7212 | Test RMSE: 0.7762 | Time: 1.45s\n",
      "Epoch 48/50 | Train RMSE: 0.7212 | Test RMSE: 0.7761 | Time: 1.41s\n",
      "Epoch 49/50 | Train RMSE: 0.7212 | Test RMSE: 0.7761 | Time: 1.43s\n",
      "Epoch 50/50 | Train RMSE: 0.7212 | Test RMSE: 0.7761 | Time: 1.53s\n",
      "Finished training. Total time: 111.45s\n"
     ]
    }
   ],
   "source": [
    "num_epochs = 50\n",
    "\n",
    "training_loss, training_RMSE, testing_RMSE, embeddings, biases = rm.training_als_from_preprocessed(\n",
    "        ratings_mean,\n",
    "        num_users, num_items,\n",
    "        all_u_train_u, all_m_train_u, all_r_train_u, user_ptrs_train,\n",
    "        all_m_train_m, all_u_train_m, all_r_train_m, item_ptrs_train,\n",
    "        all_u_test, all_m_test, all_r_test, user_ptrs_test,\n",
    "        num_epochs=num_epochs, lam=lam, gamma=gamma, tau=tau,\n",
    "        embeddings_dim=embeddings_dim, scale=scale\n",
    "    )"
   ]
  }
 ],
 "metadata": {
  "kernelspec": {
   "display_name": "Python 3",
   "language": "python",
   "name": "python3"
  },
  "language_info": {
   "codemirror_mode": {
    "name": "ipython",
    "version": 3
   },
   "file_extension": ".py",
   "mimetype": "text/x-python",
   "name": "python",
   "nbconvert_exporter": "python",
   "pygments_lexer": "ipython3",
   "version": "3.12.8"
  }
 },
 "nbformat": 4,
 "nbformat_minor": 5
}
